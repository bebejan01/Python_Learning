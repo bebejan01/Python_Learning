{
 "cells": [
  {
   "cell_type": "markdown",
   "id": "5456d57f-4c21-414b-bd5d-899645eb7c60",
   "metadata": {},
   "source": [
    "# For Döngüleri"
   ]
  },
  {
   "cell_type": "code",
   "execution_count": 2,
   "id": "65413ac8-94b7-4790-9fc6-0523ff27e2e4",
   "metadata": {},
   "outputs": [],
   "source": [
    "# kullanim yapisi\n",
    "\n",
    "# for <değişken> in <iterable>:\n",
    "#     <buraya yazilani yap>"
   ]
  },
  {
   "cell_type": "code",
   "execution_count": 4,
   "id": "3c44893c-a2d8-44c1-9876-2ae8ca6b9ae9",
   "metadata": {},
   "outputs": [],
   "source": [
    "yorum_birakanlar = [\"Ismail Aydemir\", \"Uygar Aydin\", \"Naz Yagcioglu\", \"Ferhat Ibrik\", \"Ulas Acil\", \"Bilal Kurucay\"]"
   ]
  },
  {
   "cell_type": "code",
   "execution_count": 6,
   "id": "39be17fe-eedc-4a77-bb41-ebfab66cf4f0",
   "metadata": {},
   "outputs": [
    {
     "name": "stdout",
     "output_type": "stream",
     "text": [
      "Ismail Aydemir\n",
      "Uygar Aydin\n",
      "Naz Yagcioglu\n",
      "Ferhat Ibrik\n",
      "Ulas Acil\n",
      "Bilal Kurucay\n"
     ]
    }
   ],
   "source": [
    "for kullanici in yorum_birakanlar:\n",
    "    print(kullanici)"
   ]
  },
  {
   "cell_type": "code",
   "execution_count": 10,
   "id": "356e15dd-3042-4f88-a064-07d403f91717",
   "metadata": {},
   "outputs": [
    {
     "name": "stdout",
     "output_type": "stream",
     "text": [
      "1 Ismail Aydemir\n",
      "2 Uygar Aydin\n",
      "3 Naz Yagcioglu\n",
      "4 Ferhat Ibrik\n",
      "5 Ulas Acil\n",
      "6 Bilal Kurucay\n"
     ]
    }
   ],
   "source": [
    "kullanici_sayisi = 0\n",
    "for kullanici in yorum_birakanlar:\n",
    "    kullanici_sayisi = kullanici_sayisi + 1\n",
    "    print(kullanici_sayisi, kullanici)"
   ]
  },
  {
   "cell_type": "code",
   "execution_count": 12,
   "id": "38bed009-1008-4a38-9d54-62b9c321ec4c",
   "metadata": {},
   "outputs": [
    {
     "name": "stdout",
     "output_type": "stream",
     "text": [
      "0 Ismail Aydemir\n",
      "1 Uygar Aydin\n",
      "2 Naz Yagcioglu\n",
      "3 Ferhat Ibrik\n",
      "4 Ulas Acil\n",
      "5 Bilal Kurucay\n"
     ]
    }
   ],
   "source": [
    "kullanici_sayisi = 0\n",
    "for kullanici in yorum_birakanlar:\n",
    "\n",
    "    print(kullanici_sayisi, kullanici)\n",
    "    kullanici_sayisi = kullanici_sayisi + 1"
   ]
  },
  {
   "cell_type": "code",
   "execution_count": 16,
   "id": "c55a1899-2611-48da-b5b5-c813a37838a0",
   "metadata": {},
   "outputs": [
    {
     "data": {
      "text/plain": [
       "['Ismail', 'Aydemir']"
      ]
     },
     "execution_count": 16,
     "metadata": {},
     "output_type": "execute_result"
    }
   ],
   "source": [
    "yorum_birakanlar[0].split()"
   ]
  },
  {
   "cell_type": "code",
   "execution_count": 18,
   "id": "e801fd4e-9edc-4601-91d6-6052bd204b19",
   "metadata": {},
   "outputs": [
    {
     "data": {
      "text/plain": [
       "'Ismail'"
      ]
     },
     "execution_count": 18,
     "metadata": {},
     "output_type": "execute_result"
    }
   ],
   "source": [
    "yorum_birakanlar[0].split()[0]"
   ]
  },
  {
   "cell_type": "code",
   "execution_count": 20,
   "id": "7aabf568-0bab-4f05-a563-999757fdf5b4",
   "metadata": {},
   "outputs": [
    {
     "data": {
      "text/plain": [
       "'Aydemir'"
      ]
     },
     "execution_count": 20,
     "metadata": {},
     "output_type": "execute_result"
    }
   ],
   "source": [
    "yorum_birakanlar[0].split()[1]"
   ]
  },
  {
   "cell_type": "code",
   "execution_count": 30,
   "id": "60de18b5-a2ff-46a9-97c0-7088387a2524",
   "metadata": {},
   "outputs": [
    {
     "name": "stdout",
     "output_type": "stream",
     "text": [
      "1. kullanicinin adi Ismail ve Soyadi Aydemir\n",
      "2. kullanicinin adi Uygar ve Soyadi Aydin\n",
      "3. kullanicinin adi Naz ve Soyadi Yagcioglu\n",
      "4. kullanicinin adi Ferhat ve Soyadi Ibrik\n",
      "5. kullanicinin adi Ulas ve Soyadi Acil\n",
      "6. kullanicinin adi Bilal ve Soyadi Kurucay\n"
     ]
    }
   ],
   "source": [
    "kullanici_sayisi = 0\n",
    "for kullanici in yorum_birakanlar:\n",
    "    kullanici_sayisi = kullanici_sayisi + 1\n",
    "    ad, soyad = kullanici.split()[0], kullanici.split()[1]\n",
    "    print('{0}. kullanicinin adi {1} ve Soyadi {2}'.format(kullanici_sayisi, ad, soyad))"
   ]
  },
  {
   "cell_type": "code",
   "execution_count": 44,
   "id": "30014be6-8899-48c7-b54c-56ca69732d55",
   "metadata": {},
   "outputs": [
    {
     "name": "stdout",
     "output_type": "stream",
     "text": [
      "1. Kullanicinin Adi Ismail ve Soyadi Aydemir\n",
      "2. Kullanicinin Adi Uygar ve Soyadi Aydin\n",
      "3. Kullanicinin Adi Naz ve Soyadi Yagcioglu\n",
      "1. Moderatorün Adi Ferhat ve Soyadi Ibrik\n",
      "4. Kullanicinin Adi Ulas ve Soyadi Acil\n",
      "5. Kullanicinin Adi Bilal ve Soyadi Kurucay\n"
     ]
    }
   ],
   "source": [
    "moderator = \"Ferhat Ibrik\"\n",
    "\n",
    "kullanici_sayisi = 0\n",
    "moderator_sayisi = 0\n",
    "\n",
    "for kullanici in yorum_birakanlar:\n",
    "    ad, soyad = kullanici.split()[0], kullanici.split()[1]\n",
    "\n",
    "    if(kullanici == moderator):\n",
    "        moderator_sayisi += 1  # moderator_sayisi = moderator_sayisi + 1\n",
    "        print('{0}. Moderatorün Adi {1} ve Soyadi {2}'.format(moderator_sayisi, ad, soyad))\n",
    "    else:\n",
    "        kullanici_sayisi += 1\n",
    "        print('{0}. Kullanicinin Adi {1} ve Soyadi {2}'.format(kullanici_sayisi, ad, soyad))"
   ]
  },
  {
   "cell_type": "code",
   "execution_count": null,
   "id": "e5a7e741-1a5c-4b89-b674-b260a8d2e759",
   "metadata": {},
   "outputs": [],
   "source": []
  }
 ],
 "metadata": {
  "kernelspec": {
   "display_name": "Python [conda env:base] *",
   "language": "python",
   "name": "conda-base-py"
  },
  "language_info": {
   "codemirror_mode": {
    "name": "ipython",
    "version": 3
   },
   "file_extension": ".py",
   "mimetype": "text/x-python",
   "name": "python",
   "nbconvert_exporter": "python",
   "pygments_lexer": "ipython3",
   "version": "3.12.7"
  }
 },
 "nbformat": 4,
 "nbformat_minor": 5
}
