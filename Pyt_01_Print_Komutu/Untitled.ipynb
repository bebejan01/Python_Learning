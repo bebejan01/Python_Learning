{
 "cells": [
  {
   "cell_type": "code",
   "execution_count": 7,
   "id": "8615e3f7-8798-48f7-bc98-64c3b3e43885",
   "metadata": {},
   "outputs": [
    {
     "name": "stdout",
     "output_type": "stream",
     "text": [
      "selam\n",
      "merhaba \n",
      "bebejanın dünyası\n"
     ]
    }
   ],
   "source": [
    "print('selam')\n",
    "print('merhaba \\nbebejanın dünyası')"
   ]
  },
  {
   "cell_type": "code",
   "execution_count": 9,
   "id": "b2ee8336-874c-4de3-a90e-eb6f932d13b1",
   "metadata": {},
   "outputs": [
    {
     "name": "stdout",
     "output_type": "stream",
     "text": [
      "Benim adım \tbebejan\n"
     ]
    }
   ],
   "source": [
    "print('Benim adım \\tbebejan')"
   ]
  },
  {
   "cell_type": "code",
   "execution_count": 11,
   "id": "f1fbc6ee-ba12-4173-ac94-20473ba26273",
   "metadata": {},
   "outputs": [
    {
     "name": "stdout",
     "output_type": "stream",
     "text": [
      "Benim adim Mesut\n"
     ]
    }
   ],
   "source": [
    "print('Benim adim {}'.format('Mesut'))"
   ]
  },
  {
   "cell_type": "code",
   "execution_count": 13,
   "id": "23145b87-3c3e-4af3-b6d6-e689d78bf43b",
   "metadata": {},
   "outputs": [
    {
     "name": "stdout",
     "output_type": "stream",
     "text": [
      "Benim adim mesut, yasim 32\n"
     ]
    }
   ],
   "source": [
    "print('Benim adim {}, yasim {}'. format('mesut', 32))"
   ]
  },
  {
   "cell_type": "code",
   "execution_count": 15,
   "id": "c0c6c14b-726b-46e5-ab06-d20d064d524e",
   "metadata": {},
   "outputs": [
    {
     "name": "stdout",
     "output_type": "stream",
     "text": [
      "Benim adim mesut, yasim 32\n"
     ]
    }
   ],
   "source": [
    "print('Benim adim {0}, yasim {1}'. format('mesut', 32))"
   ]
  },
  {
   "cell_type": "code",
   "execution_count": 17,
   "id": "5e50f065-cf19-413e-9806-80a823815d91",
   "metadata": {},
   "outputs": [
    {
     "name": "stdout",
     "output_type": "stream",
     "text": [
      "Benim adim 32, yasim mesut\n"
     ]
    }
   ],
   "source": [
    "print('Benim adim {1}, yasim {0}'. format('mesut', 32))"
   ]
  },
  {
   "cell_type": "code",
   "execution_count": 19,
   "id": "b7ab4bcb-62dc-49cd-993d-6fb48482902b",
   "metadata": {},
   "outputs": [
    {
     "name": "stdout",
     "output_type": "stream",
     "text": [
      "Benim adim mesut, yasim 32\n"
     ]
    }
   ],
   "source": [
    "print('Benim adim {ad}, yasim {yas}'. format(ad='mesut', yas=32))"
   ]
  },
  {
   "cell_type": "code",
   "execution_count": null,
   "id": "a0ab1edf-086c-43ed-935a-a6fba368062d",
   "metadata": {},
   "outputs": [],
   "source": []
  }
 ],
 "metadata": {
  "kernelspec": {
   "display_name": "Python [conda env:base] *",
   "language": "python",
   "name": "conda-base-py"
  },
  "language_info": {
   "codemirror_mode": {
    "name": "ipython",
    "version": 3
   },
   "file_extension": ".py",
   "mimetype": "text/x-python",
   "name": "python",
   "nbconvert_exporter": "python",
   "pygments_lexer": "ipython3",
   "version": "3.12.7"
  }
 },
 "nbformat": 4,
 "nbformat_minor": 5
}
