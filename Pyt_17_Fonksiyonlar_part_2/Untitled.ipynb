{
 "cells": [
  {
   "cell_type": "markdown",
   "id": "7d2f70fe-58f6-460d-bf04-e271a70e9146",
   "metadata": {},
   "source": [
    "# Fonksiyonların Birbiri ile İlişkisi"
   ]
  },
  {
   "cell_type": "code",
   "execution_count": 12,
   "id": "4c8c6e0f-f393-48de-84b3-14bd3df4509a",
   "metadata": {},
   "outputs": [],
   "source": [
    "def buyuk_sayi_dondur(a, b):\n",
    "    return a if a > b else b\n",
    "\n",
    "def metin_yazdir(a, b):\n",
    "    buyuk_sayi = buyuk_sayi_dondur(a, b)\n",
    "    sablon_metin = \"{} daha büyük sayidir\".format(buyuk_sayi)\n",
    "    print(sablon_metin)"
   ]
  },
  {
   "cell_type": "code",
   "execution_count": 14,
   "id": "6e49b28d-098d-4231-a19c-ef8d5992aa28",
   "metadata": {},
   "outputs": [
    {
     "name": "stdout",
     "output_type": "stream",
     "text": [
      "9 daha büyük sayidir\n"
     ]
    }
   ],
   "source": [
    "metin_yazdir(5,9)"
   ]
  },
  {
   "cell_type": "markdown",
   "id": "70c45eff-c4cb-43ad-878f-4d54fae05c70",
   "metadata": {},
   "source": [
    "# Fonksiyonlar Birden Fazla Sonuc Döndürebilir "
   ]
  },
  {
   "cell_type": "code",
   "execution_count": 17,
   "id": "a70d3a5c-7c8e-4ecc-8a88-43ce6ca770ac",
   "metadata": {},
   "outputs": [
    {
     "data": {
      "text/plain": [
       "['Gokce', 'Gun']"
      ]
     },
     "execution_count": 17,
     "metadata": {},
     "output_type": "execute_result"
    }
   ],
   "source": [
    "\"Gokce Gun\".split() "
   ]
  },
  {
   "cell_type": "code",
   "execution_count": 19,
   "id": "21f66021-cc99-4f15-be87-6a90ed055a1a",
   "metadata": {},
   "outputs": [],
   "source": [
    "def isim_soyisim_ayirma(isim_soyisim):\n",
    "    isim=isim_soyisim.split()[0]\n",
    "    soyisim=isim_soyisim.split()[1]\n",
    "    return isim, soyisim"
   ]
  },
  {
   "cell_type": "code",
   "execution_count": 21,
   "id": "d94f8b9b-efa3-481d-9dbd-985efa875201",
   "metadata": {},
   "outputs": [
    {
     "data": {
      "text/plain": [
       "('Mustafa', 'Kemal')"
      ]
     },
     "execution_count": 21,
     "metadata": {},
     "output_type": "execute_result"
    }
   ],
   "source": [
    "isim_soyisim_ayirma(\"Mustafa Kemal\")"
   ]
  },
  {
   "cell_type": "code",
   "execution_count": 23,
   "id": "d7649ee9-c1d5-476a-bc0c-b0e1b9c2acae",
   "metadata": {},
   "outputs": [
    {
     "name": "stdout",
     "output_type": "stream",
     "text": [
      "Mustafa\n",
      "Kemal\n"
     ]
    }
   ],
   "source": [
    "a,b = isim_soyisim_ayirma(\"Mustafa Kemal\")\n",
    "print(a)\n",
    "print(b)"
   ]
  },
  {
   "cell_type": "markdown",
   "id": "7a7b4988-3796-4c99-aece-62aadaf78dde",
   "metadata": {},
   "source": [
    "# *args Argümanı"
   ]
  },
  {
   "cell_type": "code",
   "execution_count": 28,
   "id": "8c448f44-ee0d-4090-a89b-56f4fc60df96",
   "metadata": {},
   "outputs": [
    {
     "data": {
      "text/plain": [
       "'Mustafa-Kemal'"
      ]
     },
     "execution_count": 28,
     "metadata": {},
     "output_type": "execute_result"
    }
   ],
   "source": [
    "\"-\".join([\"Mustafa\", \"Kemal\"])"
   ]
  },
  {
   "cell_type": "code",
   "execution_count": 38,
   "id": "f2e34fc1-8369-4c46-8a17-65a20ba53a18",
   "metadata": {},
   "outputs": [],
   "source": [
    "def isim_soyisim_birlestir(isim, soyisim):\n",
    "    return\" \".join([isim, soyisim])"
   ]
  },
  {
   "cell_type": "code",
   "execution_count": 40,
   "id": "c63deb32-f55d-42d6-897c-22274ac602db",
   "metadata": {},
   "outputs": [
    {
     "data": {
      "text/plain": [
       "'Kemal Demirel'"
      ]
     },
     "execution_count": 40,
     "metadata": {},
     "output_type": "execute_result"
    }
   ],
   "source": [
    "isim_soyisim_birlestir(\"Kemal\", \"Demirel\")"
   ]
  },
  {
   "cell_type": "code",
   "execution_count": 42,
   "id": "9135e6ab-71f2-4a30-bbbf-6d1d7850e66a",
   "metadata": {},
   "outputs": [
    {
     "ename": "TypeError",
     "evalue": "isim_soyisim_birlestir() takes 2 positional arguments but 3 were given",
     "output_type": "error",
     "traceback": [
      "\u001b[1;31m---------------------------------------------------------------------------\u001b[0m",
      "\u001b[1;31mTypeError\u001b[0m                                 Traceback (most recent call last)",
      "Cell \u001b[1;32mIn[42], line 1\u001b[0m\n\u001b[1;32m----> 1\u001b[0m isim_soyisim_birlestir(\u001b[38;5;124m\"\u001b[39m\u001b[38;5;124mMustafa\u001b[39m\u001b[38;5;124m\"\u001b[39m,\u001b[38;5;124m\"\u001b[39m\u001b[38;5;124mKemal\u001b[39m\u001b[38;5;124m\"\u001b[39m, \u001b[38;5;124m\"\u001b[39m\u001b[38;5;124mDemirel\u001b[39m\u001b[38;5;124m\"\u001b[39m)\n",
      "\u001b[1;31mTypeError\u001b[0m: isim_soyisim_birlestir() takes 2 positional arguments but 3 were given"
     ]
    }
   ],
   "source": [
    "isim_soyisim_birlestir(\"Mustafa\",\"Kemal\", \"Demirel\")"
   ]
  },
  {
   "cell_type": "code",
   "execution_count": 48,
   "id": "9d1afbf2-92ce-4ee1-865e-f9f19f2a4176",
   "metadata": {},
   "outputs": [],
   "source": [
    "def isim_soyisim_birlestir(*args):\n",
    "    return\" \".join(args)"
   ]
  },
  {
   "cell_type": "code",
   "execution_count": 50,
   "id": "6523b8a1-7d9b-41cb-9194-16230b8eea03",
   "metadata": {},
   "outputs": [
    {
     "data": {
      "text/plain": [
       "'Mustafa Kemal Demirel'"
      ]
     },
     "execution_count": 50,
     "metadata": {},
     "output_type": "execute_result"
    }
   ],
   "source": [
    "isim_soyisim_birlestir(\"Mustafa\",\"Kemal\", \"Demirel\")"
   ]
  },
  {
   "cell_type": "code",
   "execution_count": 52,
   "id": "2fc739b9-373b-4804-8746-04c1f26da401",
   "metadata": {},
   "outputs": [],
   "source": [
    "def isim_soyisim_birlestir(*args):\n",
    "    for item in args:\n",
    "        print(item)\n",
    "    return\" \".join(args)"
   ]
  },
  {
   "cell_type": "code",
   "execution_count": 54,
   "id": "bfb08cf5-e37f-42cd-9bf5-795220b80730",
   "metadata": {},
   "outputs": [
    {
     "name": "stdout",
     "output_type": "stream",
     "text": [
      "Mustafa\n",
      "Kemal\n",
      "Demirel\n"
     ]
    },
    {
     "data": {
      "text/plain": [
       "'Mustafa Kemal Demirel'"
      ]
     },
     "execution_count": 54,
     "metadata": {},
     "output_type": "execute_result"
    }
   ],
   "source": [
    "isim_soyisim_birlestir(\"Mustafa\",\"Kemal\", \"Demirel\")"
   ]
  },
  {
   "cell_type": "code",
   "execution_count": 58,
   "id": "7d7875e7-f5e7-40f0-af78-a8a8ebd748df",
   "metadata": {},
   "outputs": [],
   "source": [
    "def gobek_adi_yazdir(**kwargs):\n",
    "    if 'gobekadi' in kwargs:\n",
    "        print(kwargs['gobekadi'])\n",
    "    else:\n",
    "        print(\"Gobekadi yok\")"
   ]
  },
  {
   "cell_type": "code",
   "execution_count": 60,
   "id": "4f3489ea-7490-4af0-a35e-bd0e6cb3b6ff",
   "metadata": {},
   "outputs": [
    {
     "name": "stdout",
     "output_type": "stream",
     "text": [
      "Mesut\n"
     ]
    }
   ],
   "source": [
    "gobek_adi_yazdir(adi=\"Erol\", gobekadi=\"Mesut\", soyadi=\"Gün\")"
   ]
  },
  {
   "cell_type": "code",
   "execution_count": 62,
   "id": "137ff433-539c-4a10-b9f1-bdf4c756f257",
   "metadata": {},
   "outputs": [
    {
     "name": "stdout",
     "output_type": "stream",
     "text": [
      "Gobekadi yok\n"
     ]
    }
   ],
   "source": [
    "gobek_adi_yazdir(adi=\"Erol\", soyadi=\"Gün\")"
   ]
  },
  {
   "cell_type": "code",
   "execution_count": null,
   "id": "624dca70-a62f-497a-b161-acd7ecda72ec",
   "metadata": {},
   "outputs": [],
   "source": []
  }
 ],
 "metadata": {
  "kernelspec": {
   "display_name": "Python [conda env:base] *",
   "language": "python",
   "name": "conda-base-py"
  },
  "language_info": {
   "codemirror_mode": {
    "name": "ipython",
    "version": 3
   },
   "file_extension": ".py",
   "mimetype": "text/x-python",
   "name": "python",
   "nbconvert_exporter": "python",
   "pygments_lexer": "ipython3",
   "version": "3.12.7"
  }
 },
 "nbformat": 4,
 "nbformat_minor": 5
}
