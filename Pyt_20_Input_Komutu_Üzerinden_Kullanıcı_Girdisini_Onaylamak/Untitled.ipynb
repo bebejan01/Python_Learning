{
 "cells": [
  {
   "cell_type": "markdown",
   "id": "a0e05a78-a6c2-45ae-b9b4-09efff064be2",
   "metadata": {},
   "source": [
    "# Kullanıcı Girdisini Onaylamak"
   ]
  },
  {
   "cell_type": "code",
   "execution_count": 2,
   "id": "5c3c0f99-dae5-424f-b891-10d874c142bc",
   "metadata": {},
   "outputs": [],
   "source": [
    "def sayi_girdisi_kontrol():\n",
    "    girdi = input(\"Bir sayi giriniz:\")\n",
    "\n",
    "    if girdi.isdigit():\n",
    "        print(\"Tebrikler! Sayi tipi deger girdiniz.\")\n",
    "\n",
    "    else: \n",
    "        print(\"Üzgünüm! Bu sayi tipi degisken değil.\")"
   ]
  },
  {
   "cell_type": "code",
   "execution_count": 4,
   "id": "865b5fb8-3288-4f0b-b590-4536f10e936e",
   "metadata": {},
   "outputs": [
    {
     "name": "stdin",
     "output_type": "stream",
     "text": [
      "Bir sayi giriniz: a\n"
     ]
    },
    {
     "name": "stdout",
     "output_type": "stream",
     "text": [
      "Üzgünüm! Bu sayi tipi degisken değil.\n"
     ]
    }
   ],
   "source": [
    "sayi_girdisi_kontrol()"
   ]
  },
  {
   "cell_type": "code",
   "execution_count": 6,
   "id": "a2da3c3d-26c6-4eaa-ae64-3be7ddc35b30",
   "metadata": {},
   "outputs": [
    {
     "name": "stdin",
     "output_type": "stream",
     "text": [
      "Bir sayi giriniz: 5\n"
     ]
    },
    {
     "name": "stdout",
     "output_type": "stream",
     "text": [
      "Tebrikler! Sayi tipi deger girdiniz.\n"
     ]
    }
   ],
   "source": [
    "sayi_girdisi_kontrol()"
   ]
  },
  {
   "cell_type": "code",
   "execution_count": 8,
   "id": "73050313-5e27-40d5-88bb-4d1d0ad63ae6",
   "metadata": {},
   "outputs": [],
   "source": [
    "def sayi_girdisi_kontrol_dongu():\n",
    "    girdi = input(\"Bir sayi giriniz:\")\n",
    "\n",
    "    while not girdi.isdigit():\n",
    "        print(\"Üzgünüm! Bu sayi tipi degisken değil.\")\n",
    "        girdi = input(\"Bir sayi giriniz:\")\n",
    "\n",
    "    else: \n",
    "        print(\"Tebrikler! Sayi tipi deger girdiniz.\")\n",
    "        "
   ]
  },
  {
   "cell_type": "code",
   "execution_count": 10,
   "id": "809ed8d7-40f5-4425-8df2-cbdad577e6d0",
   "metadata": {},
   "outputs": [
    {
     "name": "stdin",
     "output_type": "stream",
     "text": [
      "Bir sayi giriniz: t\n"
     ]
    },
    {
     "name": "stdout",
     "output_type": "stream",
     "text": [
      "Üzgünüm! Bu sayi tipi degisken değil.\n"
     ]
    },
    {
     "name": "stdin",
     "output_type": "stream",
     "text": [
      "Bir sayi giriniz: 7\n"
     ]
    },
    {
     "name": "stdout",
     "output_type": "stream",
     "text": [
      "Tebrikler! Sayi tipi deger girdiniz.\n"
     ]
    }
   ],
   "source": [
    "sayi_girdisi_kontrol_dongu()"
   ]
  },
  {
   "cell_type": "code",
   "execution_count": 12,
   "id": "2c5f473c-4bae-4701-8a0d-7049991471e5",
   "metadata": {},
   "outputs": [
    {
     "name": "stdin",
     "output_type": "stream",
     "text": [
      "Bir sayi giriniz: r\n"
     ]
    },
    {
     "name": "stdout",
     "output_type": "stream",
     "text": [
      "Üzgünüm! Bu sayi tipi degisken değil.\n"
     ]
    },
    {
     "name": "stdin",
     "output_type": "stream",
     "text": [
      "Bir sayi giriniz: t\n"
     ]
    },
    {
     "name": "stdout",
     "output_type": "stream",
     "text": [
      "Üzgünüm! Bu sayi tipi degisken değil.\n"
     ]
    },
    {
     "name": "stdin",
     "output_type": "stream",
     "text": [
      "Bir sayi giriniz: y\n"
     ]
    },
    {
     "name": "stdout",
     "output_type": "stream",
     "text": [
      "Üzgünüm! Bu sayi tipi degisken değil.\n"
     ]
    },
    {
     "name": "stdin",
     "output_type": "stream",
     "text": [
      "Bir sayi giriniz: u\n"
     ]
    },
    {
     "name": "stdout",
     "output_type": "stream",
     "text": [
      "Üzgünüm! Bu sayi tipi degisken değil.\n"
     ]
    },
    {
     "name": "stdin",
     "output_type": "stream",
     "text": [
      "Bir sayi giriniz: ı\n"
     ]
    },
    {
     "name": "stdout",
     "output_type": "stream",
     "text": [
      "Üzgünüm! Bu sayi tipi degisken değil.\n"
     ]
    },
    {
     "name": "stdin",
     "output_type": "stream",
     "text": [
      "Bir sayi giriniz: o\n"
     ]
    },
    {
     "name": "stdout",
     "output_type": "stream",
     "text": [
      "Üzgünüm! Bu sayi tipi degisken değil.\n"
     ]
    },
    {
     "name": "stdin",
     "output_type": "stream",
     "text": [
      "Bir sayi giriniz: p\n"
     ]
    },
    {
     "name": "stdout",
     "output_type": "stream",
     "text": [
      "Üzgünüm! Bu sayi tipi degisken değil.\n"
     ]
    },
    {
     "name": "stdin",
     "output_type": "stream",
     "text": [
      "Bir sayi giriniz: ğ\n"
     ]
    },
    {
     "name": "stdout",
     "output_type": "stream",
     "text": [
      "Üzgünüm! Bu sayi tipi degisken değil.\n"
     ]
    },
    {
     "name": "stdin",
     "output_type": "stream",
     "text": [
      "Bir sayi giriniz: ü\n"
     ]
    },
    {
     "name": "stdout",
     "output_type": "stream",
     "text": [
      "Üzgünüm! Bu sayi tipi degisken değil.\n"
     ]
    },
    {
     "name": "stdin",
     "output_type": "stream",
     "text": [
      "Bir sayi giriniz: 1\n"
     ]
    },
    {
     "name": "stdout",
     "output_type": "stream",
     "text": [
      "Tebrikler! Sayi tipi deger girdiniz.\n"
     ]
    }
   ],
   "source": [
    "sayi_girdisi_kontrol_dongu()"
   ]
  },
  {
   "cell_type": "code",
   "execution_count": 14,
   "id": "1e0f6283-1bfe-4bf7-8ee8-525b7630cdcd",
   "metadata": {},
   "outputs": [
    {
     "data": {
      "text/plain": [
       "5"
      ]
     },
     "execution_count": 14,
     "metadata": {},
     "output_type": "execute_result"
    }
   ],
   "source": [
    "3+2"
   ]
  },
  {
   "cell_type": "code",
   "execution_count": 44,
   "id": "7a4315fe-6137-4f60-a3ac-8d678152027f",
   "metadata": {},
   "outputs": [],
   "source": [
    "def eposta_kontrol():\n",
    "\n",
    "\n",
    "    # erolmesutgun@hotmail.com, oguz@boun.edu.tr\n",
    "    \n",
    "    girdi = input(\"Gecerli bir e posta adresi giriniz:\")\n",
    "\n",
    "    while not (('.' in girdi) and ('@' in girdi)):\n",
    "        print(\"Üzgünüm! Bu gecerli bir E-posta adresi degildir.\")\n",
    "        girdi = input(\"Gecerli bir e posta adresi giriniz:\")\n",
    "        \n",
    "    else: \n",
    "        print(\"Tebrikler! E-posta adresinizle basariyla giris yaptiniz.\")\n",
    "                  "
   ]
  },
  {
   "cell_type": "code",
   "execution_count": 46,
   "id": "89690376-84ba-42be-b888-e2f6201aa65f",
   "metadata": {},
   "outputs": [
    {
     "name": "stdout",
     "output_type": "stream",
     "text": [
      "evet\n"
     ]
    }
   ],
   "source": [
    "girdi = 'erolmesutgun@hotmail.com'\n",
    "if 's' in degisken:\n",
    "    print(\"evet\")"
   ]
  },
  {
   "cell_type": "code",
   "execution_count": 48,
   "id": "2901e840-a50d-4194-8fe2-4e956bee5e2f",
   "metadata": {},
   "outputs": [
    {
     "data": {
      "text/plain": [
       "True"
      ]
     },
     "execution_count": 48,
     "metadata": {},
     "output_type": "execute_result"
    }
   ],
   "source": [
    "'s' in girdi"
   ]
  },
  {
   "cell_type": "code",
   "execution_count": 50,
   "id": "7944bc0e-a256-4f7c-988f-bd2c70961d54",
   "metadata": {},
   "outputs": [
    {
     "data": {
      "text/plain": [
       "False"
      ]
     },
     "execution_count": 50,
     "metadata": {},
     "output_type": "execute_result"
    }
   ],
   "source": [
    "'z' in girdi"
   ]
  },
  {
   "cell_type": "code",
   "execution_count": 52,
   "id": "9442668b-992c-4cbd-9b7f-818bc57de273",
   "metadata": {},
   "outputs": [
    {
     "data": {
      "text/plain": [
       "False"
      ]
     },
     "execution_count": 52,
     "metadata": {},
     "output_type": "execute_result"
    }
   ],
   "source": [
    "not (('.' in girdi) and ('@' in girdi))"
   ]
  },
  {
   "cell_type": "code",
   "execution_count": 54,
   "id": "ad059fa6-abe9-4246-a24e-f68023da5ac6",
   "metadata": {},
   "outputs": [
    {
     "data": {
      "text/plain": [
       "True"
      ]
     },
     "execution_count": 54,
     "metadata": {},
     "output_type": "execute_result"
    }
   ],
   "source": [
    "(('.' in girdi) and ('@' in girdi))"
   ]
  },
  {
   "cell_type": "code",
   "execution_count": 56,
   "id": "4c555b69-b12a-462e-9c6d-fd86ad80d570",
   "metadata": {},
   "outputs": [
    {
     "name": "stdin",
     "output_type": "stream",
     "text": [
      "Gecerli bir e posta adresi giriniz: a\n"
     ]
    },
    {
     "name": "stdout",
     "output_type": "stream",
     "text": [
      "Üzgünüm! Bu gecerli bir E-posta adresi degildir.\n"
     ]
    },
    {
     "name": "stdin",
     "output_type": "stream",
     "text": [
      "Gecerli bir e posta adresi giriniz: 123123\n"
     ]
    },
    {
     "name": "stdout",
     "output_type": "stream",
     "text": [
      "Üzgünüm! Bu gecerli bir E-posta adresi degildir.\n"
     ]
    },
    {
     "name": "stdin",
     "output_type": "stream",
     "text": [
      "Gecerli bir e posta adresi giriniz: oguz@boun.edu.tr\n"
     ]
    },
    {
     "name": "stdout",
     "output_type": "stream",
     "text": [
      "Tebrikler! E-posta adresinizle basariyla giris yaptiniz.\n"
     ]
    }
   ],
   "source": [
    "eposta_kontrol()"
   ]
  },
  {
   "cell_type": "code",
   "execution_count": null,
   "id": "c83bfaba-013b-4337-b7ae-dfd4a0387a32",
   "metadata": {},
   "outputs": [],
   "source": []
  }
 ],
 "metadata": {
  "kernelspec": {
   "display_name": "Python [conda env:base] *",
   "language": "python",
   "name": "conda-base-py"
  },
  "language_info": {
   "codemirror_mode": {
    "name": "ipython",
    "version": 3
   },
   "file_extension": ".py",
   "mimetype": "text/x-python",
   "name": "python",
   "nbconvert_exporter": "python",
   "pygments_lexer": "ipython3",
   "version": "3.12.7"
  }
 },
 "nbformat": 4,
 "nbformat_minor": 5
}
