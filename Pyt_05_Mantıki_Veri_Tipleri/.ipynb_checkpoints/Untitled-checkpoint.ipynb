{
 "cells": [
  {
   "cell_type": "code",
   "execution_count": 1,
   "id": "f26746fb-7953-4294-9b0b-f1f2aa596dc0",
   "metadata": {},
   "outputs": [],
   "source": [
    "a = True"
   ]
  },
  {
   "cell_type": "code",
   "execution_count": 3,
   "id": "c9472bc8-021d-414f-ab49-b8887901de4c",
   "metadata": {},
   "outputs": [],
   "source": [
    "b = False"
   ]
  },
  {
   "cell_type": "code",
   "execution_count": 5,
   "id": "1e13ac52-4efd-40c6-8b8a-cdb6bdaa7a31",
   "metadata": {},
   "outputs": [
    {
     "name": "stdout",
     "output_type": "stream",
     "text": [
      "True\n"
     ]
    }
   ],
   "source": [
    "print(a)"
   ]
  },
  {
   "cell_type": "code",
   "execution_count": 7,
   "id": "53813cfa-a95b-480f-ac92-978caaf98544",
   "metadata": {},
   "outputs": [
    {
     "name": "stdout",
     "output_type": "stream",
     "text": [
      "False\n"
     ]
    }
   ],
   "source": [
    "print(b)"
   ]
  },
  {
   "cell_type": "code",
   "execution_count": 9,
   "id": "130d4768-2f5d-472f-8178-011e54e7d7a2",
   "metadata": {},
   "outputs": [],
   "source": [
    "c = 'True'"
   ]
  },
  {
   "cell_type": "code",
   "execution_count": 11,
   "id": "e843865b-44b0-4ab6-85f7-02b9043a4c60",
   "metadata": {},
   "outputs": [
    {
     "name": "stdout",
     "output_type": "stream",
     "text": [
      "True\n"
     ]
    }
   ],
   "source": [
    "print(c)"
   ]
  },
  {
   "cell_type": "code",
   "execution_count": 13,
   "id": "5c60c4d4-4a30-4a20-879a-8888388e9d13",
   "metadata": {},
   "outputs": [
    {
     "name": "stdout",
     "output_type": "stream",
     "text": [
      "<class 'str'>\n"
     ]
    }
   ],
   "source": [
    "print(type(c))"
   ]
  },
  {
   "cell_type": "code",
   "execution_count": 15,
   "id": "98635af7-3906-4388-9b93-ad1835f47bb7",
   "metadata": {},
   "outputs": [
    {
     "name": "stdout",
     "output_type": "stream",
     "text": [
      "<class 'bool'>\n"
     ]
    }
   ],
   "source": [
    "print(type(a))"
   ]
  },
  {
   "cell_type": "code",
   "execution_count": 17,
   "id": "63da116b-94b0-4088-8877-e1d5b4d56417",
   "metadata": {},
   "outputs": [],
   "source": [
    "yas1 = 20\n",
    "yas2 = 18"
   ]
  },
  {
   "cell_type": "code",
   "execution_count": 19,
   "id": "5194a552-4b94-469e-af2e-310eae1e0073",
   "metadata": {},
   "outputs": [
    {
     "name": "stdout",
     "output_type": "stream",
     "text": [
      "True\n"
     ]
    }
   ],
   "source": [
    "print(yas1 > 18)"
   ]
  },
  {
   "cell_type": "code",
   "execution_count": 21,
   "id": "9634d022-f3f6-4d84-abd4-8338b3478e86",
   "metadata": {},
   "outputs": [
    {
     "name": "stdout",
     "output_type": "stream",
     "text": [
      "False\n"
     ]
    }
   ],
   "source": [
    "print(yas1 > 20)"
   ]
  },
  {
   "cell_type": "code",
   "execution_count": 23,
   "id": "bd775caa-d1c8-45b7-b50d-ee64c8297606",
   "metadata": {},
   "outputs": [
    {
     "data": {
      "text/plain": [
       "True"
      ]
     },
     "execution_count": 23,
     "metadata": {},
     "output_type": "execute_result"
    }
   ],
   "source": [
    "yas2 == 18"
   ]
  },
  {
   "cell_type": "code",
   "execution_count": 25,
   "id": "68a26009-37c3-4ecd-a9e5-0bf89a48c094",
   "metadata": {},
   "outputs": [
    {
     "data": {
      "text/plain": [
       "False"
      ]
     },
     "execution_count": 25,
     "metadata": {},
     "output_type": "execute_result"
    }
   ],
   "source": [
    "yas2 ==20"
   ]
  },
  {
   "cell_type": "code",
   "execution_count": 27,
   "id": "39a426ee-c301-4ca1-897e-6df4c75f4b3b",
   "metadata": {},
   "outputs": [
    {
     "data": {
      "text/plain": [
       "True"
      ]
     },
     "execution_count": 27,
     "metadata": {},
     "output_type": "execute_result"
    }
   ],
   "source": [
    "yas2 != 20"
   ]
  },
  {
   "cell_type": "code",
   "execution_count": 29,
   "id": "9efa3b18-74bf-4c80-a67a-a5b651238594",
   "metadata": {},
   "outputs": [
    {
     "data": {
      "text/plain": [
       "False"
      ]
     },
     "execution_count": 29,
     "metadata": {},
     "output_type": "execute_result"
    }
   ],
   "source": [
    "yas2 != 18"
   ]
  },
  {
   "cell_type": "code",
   "execution_count": 31,
   "id": "a157d6a4-793a-4fad-8725-38c2a6c524b0",
   "metadata": {},
   "outputs": [
    {
     "data": {
      "text/plain": [
       "True"
      ]
     },
     "execution_count": 31,
     "metadata": {},
     "output_type": "execute_result"
    }
   ],
   "source": [
    "not yas2 > 18"
   ]
  },
  {
   "cell_type": "code",
   "execution_count": null,
   "id": "e3235e96-eaf0-4ed5-b064-db63bd298635",
   "metadata": {},
   "outputs": [],
   "source": []
  }
 ],
 "metadata": {
  "kernelspec": {
   "display_name": "Python [conda env:base] *",
   "language": "python",
   "name": "conda-base-py"
  },
  "language_info": {
   "codemirror_mode": {
    "name": "ipython",
    "version": 3
   },
   "file_extension": ".py",
   "mimetype": "text/x-python",
   "name": "python",
   "nbconvert_exporter": "python",
   "pygments_lexer": "ipython3",
   "version": "3.12.7"
  }
 },
 "nbformat": 4,
 "nbformat_minor": 5
}
