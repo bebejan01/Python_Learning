{
 "cells": [
  {
   "cell_type": "markdown",
   "id": "d35bff43-d2f9-4333-b00d-5b7590094229",
   "metadata": {},
   "source": [
    "# İf Sorgulari"
   ]
  },
  {
   "cell_type": "code",
   "execution_count": 5,
   "id": "4d5433bc-c122-4377-9a27-1f33f353ae0d",
   "metadata": {},
   "outputs": [],
   "source": [
    "# kullanim Senaryosu-1\n",
    "\n",
    "# if <koşul sağlanıyorsa>\n",
    "#   <burada yazilani yap>"
   ]
  },
  {
   "cell_type": "code",
   "execution_count": 7,
   "id": "229a4d9a-35fc-4469-a424-81e29b3e8eb4",
   "metadata": {},
   "outputs": [
    {
     "name": "stdout",
     "output_type": "stream",
     "text": [
      "Şemsiyeni al!\n"
     ]
    }
   ],
   "source": [
    "hava_durumu = \"yagisli\"\n",
    "\n",
    "if hava_durumu == 'yagisli': \n",
    "    print(\"Şemsiyeni al!\")"
   ]
  },
  {
   "cell_type": "code",
   "execution_count": 9,
   "id": "41b1ddc9-e889-4f7e-a868-4e00dc08cda9",
   "metadata": {},
   "outputs": [],
   "source": [
    "hava_durumu = \"karli\"\n",
    "\n",
    "if hava_durumu == 'yagisli': \n",
    "    print(\"Şemsiyeni al!\")"
   ]
  },
  {
   "cell_type": "code",
   "execution_count": 11,
   "id": "02df119b-e2a2-4c9a-89fe-cc78224c5d50",
   "metadata": {},
   "outputs": [],
   "source": [
    "# kullanim Senaryosu-2\n",
    "\n",
    "# if <koşul sağlanıyorsa>: \n",
    "#    <burada yazilani yap>\n",
    "# else:\n",
    "#    <burada yazilani yap>"
   ]
  },
  {
   "cell_type": "code",
   "execution_count": 13,
   "id": "7ed3cdbe-70ff-4756-86cd-fb1185e27d44",
   "metadata": {},
   "outputs": [
    {
     "name": "stdout",
     "output_type": "stream",
     "text": [
      "Şemsiyeni al!\n"
     ]
    }
   ],
   "source": [
    "hava_durumu = \"yagisli\"\n",
    "\n",
    "if hava_durumu == 'yagisli': \n",
    "    print(\"Şemsiyeni al!\")\n",
    "else:\n",
    "    print(\"sorun yok\")"
   ]
  },
  {
   "cell_type": "code",
   "execution_count": 15,
   "id": "5a45834a-4d47-42e5-ae5f-a2bfbe0c3d0c",
   "metadata": {},
   "outputs": [
    {
     "name": "stdout",
     "output_type": "stream",
     "text": [
      "sorun yok\n"
     ]
    }
   ],
   "source": [
    "hava_durumu = \"karli\"\n",
    "\n",
    "if hava_durumu == 'yagisli': \n",
    "    print(\"Şemsiyeni al!\")\n",
    "else:\n",
    "    print(\"sorun yok\")"
   ]
  },
  {
   "cell_type": "code",
   "execution_count": 17,
   "id": "2fee212f-82c9-40eb-a142-a859fae594c1",
   "metadata": {},
   "outputs": [],
   "source": [
    "# kullanım Senaryosu-3\n",
    "\n",
    "# if <koşul sağlanıyorsa>:\n",
    "#    <buraada yazilani yap>\n",
    "# elif <alternatif kosul sağlanıyorsa>:\n",
    "#    <burada yazilani yap>\n",
    "# else: \n",
    "#    <burada yazilani yap>"
   ]
  },
  {
   "cell_type": "code",
   "execution_count": 25,
   "id": "7b06b91b-17ae-41ad-b372-8e10f1e199e9",
   "metadata": {},
   "outputs": [
    {
     "name": "stdout",
     "output_type": "stream",
     "text": [
      "sorun yok\n"
     ]
    }
   ],
   "source": [
    "hava_durumu = \"günesli\"\n",
    "\n",
    "if hava_durumu == 'yagisli': \n",
    "    print(\"Şemsiyeni al!\")\n",
    "elif hava_durumu == 'karli':\n",
    "    print(\"atkını al!\")\n",
    "else:\n",
    "    print(\"sorun yok\")"
   ]
  },
  {
   "cell_type": "code",
   "execution_count": 43,
   "id": "6c6dbe16-d045-44ec-b424-878884d0765f",
   "metadata": {},
   "outputs": [
    {
     "name": "stdout",
     "output_type": "stream",
     "text": [
      "Sen buraya ait değilsin!\n"
     ]
    }
   ],
   "source": [
    "yas = 18\n",
    "if yas > 18:\n",
    "    print(\"selam\")\n",
    "else: \n",
    "    print(\"Sen buraya ait değilsin!\")"
   ]
  },
  {
   "cell_type": "code",
   "execution_count": 45,
   "id": "0b2703b3-d01c-4306-a244-5a1057d2cf4d",
   "metadata": {},
   "outputs": [
    {
     "name": "stdout",
     "output_type": "stream",
     "text": [
      "mevcut değil\n"
     ]
    }
   ],
   "source": [
    "liste = ['a','b','c']\n",
    "\n",
    "hedef_harf = 'd'\n",
    "if hedef_harf in liste: \n",
    "    print('buldum')\n",
    "else:\n",
    "    print('mevcut değil')"
   ]
  },
  {
   "cell_type": "code",
   "execution_count": 47,
   "id": "04297a36-b36f-4351-88f3-8ae6612f311d",
   "metadata": {},
   "outputs": [
    {
     "name": "stdout",
     "output_type": "stream",
     "text": [
      "listeye eklendi\n",
      "Güncel liste ['a', 'b', 'c', 'd']\n"
     ]
    }
   ],
   "source": [
    "liste = ['a','b','c']\n",
    "\n",
    "hedef_harf = 'd'\n",
    "if hedef_harf in liste: \n",
    "    print('buldum')\n",
    "else:\n",
    "    liste.append(hedef_harf)\n",
    "    print('listeye eklendi')\n",
    "    print('Güncel liste {}'.format(liste))"
   ]
  },
  {
   "cell_type": "code",
   "execution_count": 49,
   "id": "2067ae7c-7b9d-40bb-a791-87984f980caa",
   "metadata": {},
   "outputs": [
    {
     "name": "stdout",
     "output_type": "stream",
     "text": [
      "buldum ama ilk konumda değil\n"
     ]
    }
   ],
   "source": [
    "if (hedef_harf in liste) and (hedef_harf == liste [0]):\n",
    "    print('buldum ve ilk harf konumunda')\n",
    "elif hedef_harf in liste:\n",
    "    print('buldum ama ilk konumda değil')\n",
    "else:\n",
    "    liste.append(hedef_harf)\n",
    "    print('listeye eklendi')\n",
    "    print('Güncel liste {}'.format(liste))"
   ]
  },
  {
   "cell_type": "code",
   "execution_count": 51,
   "id": "0e92f461-c90f-40d4-a51d-20de75541606",
   "metadata": {},
   "outputs": [
    {
     "name": "stdout",
     "output_type": "stream",
     "text": [
      "buldum ve ilk harf konumunda\n"
     ]
    }
   ],
   "source": [
    "if hedef_harf in liste:\n",
    "    print('buldum ve ilk harf konumunda')\n",
    "elif (hedef_harf in liste) and (hedef_harf == liste [0]):\n",
    "    print('buldum ama ilk konumda değil')\n",
    "else:\n",
    "    liste.append(hedef_harf)\n",
    "    print('listeye eklendi')\n",
    "    print('Güncel liste {}'.format(liste))"
   ]
  },
  {
   "cell_type": "code",
   "execution_count": null,
   "id": "f1d6383e-4f4d-4791-b868-df5ae1367e0f",
   "metadata": {},
   "outputs": [],
   "source": []
  }
 ],
 "metadata": {
  "kernelspec": {
   "display_name": "Python [conda env:base] *",
   "language": "python",
   "name": "conda-base-py"
  },
  "language_info": {
   "codemirror_mode": {
    "name": "ipython",
    "version": 3
   },
   "file_extension": ".py",
   "mimetype": "text/x-python",
   "name": "python",
   "nbconvert_exporter": "python",
   "pygments_lexer": "ipython3",
   "version": "3.12.7"
  }
 },
 "nbformat": 4,
 "nbformat_minor": 5
}
