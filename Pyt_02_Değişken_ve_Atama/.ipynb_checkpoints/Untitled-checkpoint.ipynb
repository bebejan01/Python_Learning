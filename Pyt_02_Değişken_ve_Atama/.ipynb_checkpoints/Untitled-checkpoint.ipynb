{
 "cells": [
  {
   "cell_type": "code",
   "execution_count": 3,
   "id": "a49528b6-b520-48f3-9a57-6df862f70fdf",
   "metadata": {},
   "outputs": [],
   "source": [
    "# Degiskenler\n",
    "# Kabul edilmeyen degisken isim atama senaryoları: \n",
    "\n",
    "# Sayi ile baslamak\n",
    "# Bosluk icermek\n",
    "# \"*(/ gibi semboller icermek\n",
    "# Rezerve edilmis isimleri kullanmak"
   ]
  },
  {
   "cell_type": "code",
   "execution_count": 5,
   "id": "a4d77a5c-f82e-43cc-9d88-91ae9d908ae6",
   "metadata": {},
   "outputs": [],
   "source": [
    "sayi = 10"
   ]
  },
  {
   "cell_type": "code",
   "execution_count": 7,
   "id": "9943d3ac-6a1b-4782-9093-8e9fe758a97a",
   "metadata": {},
   "outputs": [
    {
     "name": "stdout",
     "output_type": "stream",
     "text": [
      "10\n"
     ]
    }
   ],
   "source": [
    "print(sayi)"
   ]
  },
  {
   "cell_type": "code",
   "execution_count": 9,
   "id": "a584223b-ebc7-4c08-8102-a8043c29ec25",
   "metadata": {},
   "outputs": [],
   "source": [
    "sayi = 11"
   ]
  },
  {
   "cell_type": "code",
   "execution_count": 13,
   "id": "c711d7b4-bb3d-4e07-96f3-55ddd4f577f0",
   "metadata": {},
   "outputs": [
    {
     "name": "stdout",
     "output_type": "stream",
     "text": [
      "11\n"
     ]
    }
   ],
   "source": [
    "print(sayi)"
   ]
  },
  {
   "cell_type": "code",
   "execution_count": 15,
   "id": "d2789b67-ea39-421c-9c1f-6e4f281ab1b7",
   "metadata": {},
   "outputs": [],
   "source": [
    "sayi = sayi + 1"
   ]
  },
  {
   "cell_type": "code",
   "execution_count": 17,
   "id": "0543a178-00ad-44ea-afcd-3bbd50a3a731",
   "metadata": {},
   "outputs": [
    {
     "name": "stdout",
     "output_type": "stream",
     "text": [
      "12\n"
     ]
    }
   ],
   "source": [
    "print(sayi)"
   ]
  },
  {
   "cell_type": "code",
   "execution_count": 19,
   "id": "ce5172ba-a3c6-4c76-aa5e-3ead4b9a58c7",
   "metadata": {},
   "outputs": [],
   "source": [
    "sayi_ilk = 10"
   ]
  },
  {
   "cell_type": "code",
   "execution_count": 21,
   "id": "c543708d-1584-4a61-b3c9-1126eb0ffb0b",
   "metadata": {},
   "outputs": [
    {
     "name": "stdout",
     "output_type": "stream",
     "text": [
      "10\n"
     ]
    }
   ],
   "source": [
    "print(sayi_ilk)"
   ]
  },
  {
   "cell_type": "code",
   "execution_count": 25,
   "id": "027a7ddf-8c50-4442-b1f2-302255e075f8",
   "metadata": {},
   "outputs": [
    {
     "data": {
      "text/plain": [
       "'abc'"
      ]
     },
     "execution_count": 25,
     "metadata": {},
     "output_type": "execute_result"
    }
   ],
   "source": [
    "print = 'abc'\n",
    "print             #tavsiye edilmiyor"
   ]
  },
  {
   "cell_type": "code",
   "execution_count": null,
   "id": "0249448c-dc11-4f44-b51e-f3798ee0af6b",
   "metadata": {},
   "outputs": [],
   "source": []
  }
 ],
 "metadata": {
  "kernelspec": {
   "display_name": "Python [conda env:base] *",
   "language": "python",
   "name": "conda-base-py"
  },
  "language_info": {
   "codemirror_mode": {
    "name": "ipython",
    "version": 3
   },
   "file_extension": ".py",
   "mimetype": "text/x-python",
   "name": "python",
   "nbconvert_exporter": "python",
   "pygments_lexer": "ipython3",
   "version": "3.12.7"
  }
 },
 "nbformat": 4,
 "nbformat_minor": 5
}
