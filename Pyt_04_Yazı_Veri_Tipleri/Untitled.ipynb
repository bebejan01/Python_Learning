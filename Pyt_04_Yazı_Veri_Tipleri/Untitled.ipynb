{
 "cells": [
  {
   "cell_type": "code",
   "execution_count": 1,
   "id": "cab462a4-21b5-439b-93b4-444657a54eec",
   "metadata": {},
   "outputs": [],
   "source": [
    "strvar = \"python\""
   ]
  },
  {
   "cell_type": "code",
   "execution_count": 3,
   "id": "8116250f-53b4-4d74-a87c-c11cb173d808",
   "metadata": {},
   "outputs": [
    {
     "name": "stdout",
     "output_type": "stream",
     "text": [
      "python\n"
     ]
    }
   ],
   "source": [
    "print(strvar)"
   ]
  },
  {
   "cell_type": "code",
   "execution_count": 5,
   "id": "a605f636-399e-4887-bb32-a50a9ed3e970",
   "metadata": {},
   "outputs": [
    {
     "data": {
      "text/plain": [
       "'p'"
      ]
     },
     "execution_count": 5,
     "metadata": {},
     "output_type": "execute_result"
    }
   ],
   "source": [
    "strvar[0]"
   ]
  },
  {
   "cell_type": "code",
   "execution_count": 7,
   "id": "aef3b04d-ff02-4a0e-9327-fdc8f5c2cb00",
   "metadata": {},
   "outputs": [
    {
     "data": {
      "text/plain": [
       "'n'"
      ]
     },
     "execution_count": 7,
     "metadata": {},
     "output_type": "execute_result"
    }
   ],
   "source": [
    "strvar[-1]"
   ]
  },
  {
   "cell_type": "code",
   "execution_count": 9,
   "id": "3a78959d-9b62-4aca-a983-6cea0fca9b2d",
   "metadata": {},
   "outputs": [
    {
     "data": {
      "text/plain": [
       "'thon'"
      ]
     },
     "execution_count": 9,
     "metadata": {},
     "output_type": "execute_result"
    }
   ],
   "source": [
    "strvar[2:]"
   ]
  },
  {
   "cell_type": "code",
   "execution_count": 17,
   "id": "c203f51b-175b-45fe-aa59-13050f3c6db2",
   "metadata": {},
   "outputs": [
    {
     "data": {
      "text/plain": [
       "'th'"
      ]
     },
     "execution_count": 17,
     "metadata": {},
     "output_type": "execute_result"
    }
   ],
   "source": [
    "strvar[2:4]"
   ]
  },
  {
   "cell_type": "code",
   "execution_count": 21,
   "id": "18aeaa3e-6ad4-4e01-a3ca-b488a2018992",
   "metadata": {},
   "outputs": [],
   "source": [
    "# []   tek bir eleman alinir\n",
    "# [:]  başlangic ve bitis arasindaki elemanlar alinir\n",
    "# [::]  başlangic ve bitis arasindaki elemanlar ücüncü kisimdaki degere gore atlayarak degerler alinir"
   ]
  },
  {
   "cell_type": "code",
   "execution_count": 23,
   "id": "c62813e6-10c4-440a-959e-30355feb71c7",
   "metadata": {},
   "outputs": [
    {
     "data": {
      "text/plain": [
       "'python'"
      ]
     },
     "execution_count": 23,
     "metadata": {},
     "output_type": "execute_result"
    }
   ],
   "source": [
    "strvar[::]"
   ]
  },
  {
   "cell_type": "code",
   "execution_count": 25,
   "id": "5ed25782-7bf7-497f-8684-ca27c2b68c26",
   "metadata": {},
   "outputs": [
    {
     "data": {
      "text/plain": [
       "'pto'"
      ]
     },
     "execution_count": 25,
     "metadata": {},
     "output_type": "execute_result"
    }
   ],
   "source": [
    "strvar[::2]"
   ]
  },
  {
   "cell_type": "code",
   "execution_count": 27,
   "id": "a09d819b-1b84-401b-a7c8-94382e15d326",
   "metadata": {},
   "outputs": [
    {
     "data": {
      "text/plain": [
       "'yo'"
      ]
     },
     "execution_count": 27,
     "metadata": {},
     "output_type": "execute_result"
    }
   ],
   "source": [
    "strvar[1:5:3]"
   ]
  },
  {
   "cell_type": "code",
   "execution_count": 29,
   "id": "8d14043b-0129-41ad-8f6c-8bac83694bfb",
   "metadata": {},
   "outputs": [],
   "source": [
    "# length =uzunluk"
   ]
  },
  {
   "cell_type": "code",
   "execution_count": 31,
   "id": "179b1462-dbae-468c-9940-0cd3ddfac554",
   "metadata": {},
   "outputs": [
    {
     "data": {
      "text/plain": [
       "6"
      ]
     },
     "execution_count": 31,
     "metadata": {},
     "output_type": "execute_result"
    }
   ],
   "source": [
    "len(strvar)"
   ]
  },
  {
   "cell_type": "code",
   "execution_count": 33,
   "id": "ceaebb4b-9d22-42f1-987f-625706438dd1",
   "metadata": {},
   "outputs": [],
   "source": [
    "# concatenation (birleştirme) özelliği"
   ]
  },
  {
   "cell_type": "code",
   "execution_count": 55,
   "id": "34a6e2ed-bd37-4f3a-b814-158dd1560c44",
   "metadata": {},
   "outputs": [
    {
     "data": {
      "text/plain": [
       "'python ogren!'"
      ]
     },
     "execution_count": 55,
     "metadata": {},
     "output_type": "execute_result"
    }
   ],
   "source": [
    "strvar = strvar + ' ogren!'\n",
    "strvar"
   ]
  },
  {
   "cell_type": "code",
   "execution_count": 57,
   "id": "0879a599-d9ef-490c-965a-99af1e0b0cbc",
   "metadata": {},
   "outputs": [
    {
     "data": {
      "text/plain": [
       "'python ogren!python ogren!python ogren!python ogren!python ogren!'"
      ]
     },
     "execution_count": 57,
     "metadata": {},
     "output_type": "execute_result"
    }
   ],
   "source": [
    "strvar * 5"
   ]
  },
  {
   "cell_type": "code",
   "execution_count": 59,
   "id": "76c649e7-82d5-42b3-956d-5f5e04199fc4",
   "metadata": {},
   "outputs": [],
   "source": [
    "# upper (buyuk harfe cevirme) metodu"
   ]
  },
  {
   "cell_type": "code",
   "execution_count": 63,
   "id": "7103d6ef-e290-4d47-a17e-ab01421c7c2d",
   "metadata": {},
   "outputs": [
    {
     "name": "stdout",
     "output_type": "stream",
     "text": [
      "PYTHON OGREN!\n",
      "python ogren!\n",
      "['python', 'ogren!']\n",
      "['pyth', 'n ', 'gren!']\n"
     ]
    }
   ],
   "source": [
    "print(strvar.upper())\n",
    "print(strvar.lower())\n",
    "print(strvar.split())\n",
    "print(strvar.split(\"o\"))"
   ]
  },
  {
   "cell_type": "code",
   "execution_count": 65,
   "id": "af27fb9c-54a2-495a-b1ee-81c8129c40eb",
   "metadata": {},
   "outputs": [
    {
     "data": {
      "text/plain": [
       "['python', 'ogren!']"
      ]
     },
     "execution_count": 65,
     "metadata": {},
     "output_type": "execute_result"
    }
   ],
   "source": [
    "strvar.split()"
   ]
  },
  {
   "cell_type": "code",
   "execution_count": 67,
   "id": "6ed62f72-5852-4f92-aaa8-43bb89b29f1e",
   "metadata": {},
   "outputs": [
    {
     "name": "stdout",
     "output_type": "stream",
     "text": [
      "['python ogren!']\n"
     ]
    }
   ],
   "source": [
    "print(strvar.split(\",\"))"
   ]
  },
  {
   "cell_type": "code",
   "execution_count": 69,
   "id": "bf6b07f3-3565-4447-bb4b-b10cea28089c",
   "metadata": {},
   "outputs": [
    {
     "name": "stdout",
     "output_type": "stream",
     "text": [
      "['pyth', 'n ogren!']\n"
     ]
    }
   ],
   "source": [
    "print(strvar.split(sep = \"o\", maxsplit = 1))"
   ]
  },
  {
   "cell_type": "code",
   "execution_count": null,
   "id": "22c7b033-2855-4b96-8e9c-7e5944ad5b35",
   "metadata": {},
   "outputs": [],
   "source": []
  }
 ],
 "metadata": {
  "kernelspec": {
   "display_name": "Python [conda env:base] *",
   "language": "python",
   "name": "conda-base-py"
  },
  "language_info": {
   "codemirror_mode": {
    "name": "ipython",
    "version": 3
   },
   "file_extension": ".py",
   "mimetype": "text/x-python",
   "name": "python",
   "nbconvert_exporter": "python",
   "pygments_lexer": "ipython3",
   "version": "3.12.7"
  }
 },
 "nbformat": 4,
 "nbformat_minor": 5
}
