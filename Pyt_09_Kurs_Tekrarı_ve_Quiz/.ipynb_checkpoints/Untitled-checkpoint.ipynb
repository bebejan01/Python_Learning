{
 "cells": [
  {
   "cell_type": "code",
   "execution_count": 1,
   "id": "bf863bd9-0e62-4fb4-8057-389b16d5fc6e",
   "metadata": {},
   "outputs": [],
   "source": [
    "# Sayı Operasyonları\n",
    "\n",
    "#Aşağıdaki Hücreleri, şu işlemleri print komutunu kullanarak ekrana yazdır."
   ]
  },
  {
   "cell_type": "code",
   "execution_count": 3,
   "id": "4fed1701-a39f-44bc-8819-22fdcd7a6b01",
   "metadata": {},
   "outputs": [
    {
     "name": "stdout",
     "output_type": "stream",
     "text": [
      "5\n"
     ]
    }
   ],
   "source": [
    "# 3 ve 2'yi toplamı için bu alanı kullan.\n",
    "print(3+2)"
   ]
  },
  {
   "cell_type": "code",
   "execution_count": 5,
   "id": "77053a28-1a5d-4ab6-bb0e-1cffbe12c00e",
   "metadata": {},
   "outputs": [
    {
     "name": "stdout",
     "output_type": "stream",
     "text": [
      "20\n"
     ]
    }
   ],
   "source": [
    "# 5 ve 4'ü çarpımı için bu alanı kullan.\n",
    "print(5*4)"
   ]
  },
  {
   "cell_type": "code",
   "execution_count": 7,
   "id": "d28a41fe-c655-4510-9ffc-b3a8d4833f39",
   "metadata": {},
   "outputs": [
    {
     "name": "stdout",
     "output_type": "stream",
     "text": [
      "1\n"
     ]
    }
   ],
   "source": [
    "# 5 ve 4'ün bölümünden kalan için bu alanı kullan.\n",
    "print(5%4)"
   ]
  },
  {
   "cell_type": "code",
   "execution_count": 9,
   "id": "14e1ef5a-a997-406f-a206-6219908d0845",
   "metadata": {},
   "outputs": [],
   "source": [
    "# 2.3 ve 4.7'nin toplama işleminin neticesi hangi veri tipindedir?\n",
    "\n",
    "# float"
   ]
  },
  {
   "cell_type": "code",
   "execution_count": 11,
   "id": "e7136ccc-e897-4d67-9d3c-945aa7b1547b",
   "metadata": {},
   "outputs": [
    {
     "name": "stdout",
     "output_type": "stream",
     "text": [
      "Toplam: 7.0\n",
      "Veri tipi: <class 'float'>\n"
     ]
    }
   ],
   "source": [
    "# 2.3 ve 4.7'nin toplama işleminin veri tipini, komut kullanark ekran bastır?\n",
    "sonuc = 2.3 + 4.7\n",
    "print(\"Toplam:\", sonuc)\n",
    "print(\"Veri tipi:\", type(sonuc))"
   ]
  },
  {
   "cell_type": "code",
   "execution_count": 13,
   "id": "52fbcddd-8124-4b1a-80e7-f8ddd8adb3ae",
   "metadata": {},
   "outputs": [],
   "source": [
    "strvar = 'Yakın Kampüs'\n",
    "\n",
    "# Yukarıdaki değişkeni kullanarak, aşağıdaki hücrelerde, şu işlemleri yanıtlandır."
   ]
  },
  {
   "cell_type": "code",
   "execution_count": 15,
   "id": "7f3eb827-0cf8-45c9-a8b6-ef5923b1be5c",
   "metadata": {},
   "outputs": [
    {
     "name": "stdout",
     "output_type": "stream",
     "text": [
      "ü\n"
     ]
    }
   ],
   "source": [
    "# ü harfini index komutu kullanmadan döndür (İpucu[])\n",
    "\n",
    "print(strvar[10])"
   ]
  },
  {
   "cell_type": "code",
   "execution_count": 17,
   "id": "35bb9bc9-d652-41ba-862e-e14c13f8e30c",
   "metadata": {},
   "outputs": [
    {
     "name": "stdout",
     "output_type": "stream",
     "text": [
      "ü\n"
     ]
    }
   ],
   "source": [
    "# ü harfinin konumunu, index komutu kullanarak döndür\n",
    "\n",
    "strvar = 'Yakın Kampüs'\n",
    "print(strvar[strvar.index('ü')])"
   ]
  },
  {
   "cell_type": "code",
   "execution_count": 19,
   "id": "6f3ad748-44e5-4e98-b78f-aa35bfe53cb2",
   "metadata": {},
   "outputs": [
    {
     "data": {
      "text/plain": [
       "'yakin kampüs'"
      ]
     },
     "execution_count": 19,
     "metadata": {},
     "output_type": "execute_result"
    }
   ],
   "source": [
    "# strvar.upper().lower() ifadesinin cevabı nedir?\n",
    "\n",
    "strvar.upper().lower()"
   ]
  },
  {
   "cell_type": "code",
   "execution_count": 23,
   "id": "a8fbf520-68cd-4081-ab31-16ab1bbba84a",
   "metadata": {},
   "outputs": [
    {
     "name": "stdout",
     "output_type": "stream",
     "text": [
      "['Y', 'kın K', 'mpüs']\n"
     ]
    }
   ],
   "source": [
    "# split() komutunu boşluk(space) dışında başka bir parametre ile kullan.\n",
    "\n",
    "strvar = 'Yakın Kampüs'\n",
    "parcalar = strvar.split('a')\n",
    "print(parcalar)"
   ]
  },
  {
   "cell_type": "code",
   "execution_count": 25,
   "id": "bf35dff1-9a27-45c8-af28-2d2bdfd41722",
   "metadata": {},
   "outputs": [],
   "source": [
    "# Boolean\n",
    "\n",
    "a = True\n",
    "b = False\n",
    "c = 'True'"
   ]
  },
  {
   "cell_type": "code",
   "execution_count": 27,
   "id": "7bdd296d-69a8-44f3-9d76-ab0c9d909bf3",
   "metadata": {},
   "outputs": [
    {
     "data": {
      "text/plain": [
       "False"
      ]
     },
     "execution_count": 27,
     "metadata": {},
     "output_type": "execute_result"
    }
   ],
   "source": [
    "a == b"
   ]
  },
  {
   "cell_type": "code",
   "execution_count": 29,
   "id": "6665591a-5c93-491e-9dd6-eaf5ccbca325",
   "metadata": {},
   "outputs": [
    {
     "data": {
      "text/plain": [
       "False"
      ]
     },
     "execution_count": 29,
     "metadata": {},
     "output_type": "execute_result"
    }
   ],
   "source": [
    "a == c"
   ]
  },
  {
   "cell_type": "code",
   "execution_count": 33,
   "id": "13c44b0d-d8c2-4157-952b-119ae2baa136",
   "metadata": {},
   "outputs": [
    {
     "data": {
      "text/plain": [
       "True"
      ]
     },
     "execution_count": 33,
     "metadata": {},
     "output_type": "execute_result"
    }
   ],
   "source": [
    "a != b"
   ]
  },
  {
   "cell_type": "code",
   "execution_count": 35,
   "id": "d7c3e56c-6212-4231-af10-5be8d3654057",
   "metadata": {},
   "outputs": [],
   "source": [
    "# ! ve not hangi senaryoda birbirinin yerine kullanilamaz? (İpucu: >)\n",
    "\n",
    "# not ve ! ifadesi, özellikle karşılaştırmalarda (örneğin !>) birbirinin yerine kullanılamaz — çünkü !> Python’da geçerli bir operatör değildir."
   ]
  },
  {
   "cell_type": "code",
   "execution_count": 41,
   "id": "793848a3-627c-4cc1-a7aa-3faeb2a9adf7",
   "metadata": {},
   "outputs": [],
   "source": [
    "# type(3) = type('3')\n",
    "\n",
    "# hata verir."
   ]
  },
  {
   "cell_type": "code",
   "execution_count": 43,
   "id": "81b5588b-86f8-403d-bf46-971e1ed92f21",
   "metadata": {},
   "outputs": [],
   "source": [
    "# Listeler ve setler \n",
    "\n",
    "liste = [1, 'a', 2, 3, True, 4, 5, 'True', '1']\n",
    "\n",
    "# Yukarıdaki değişkeni kullanarak, aşağıdaki hücrelerde, şu işlemleri yanıtlandır: "
   ]
  },
  {
   "cell_type": "code",
   "execution_count": 47,
   "id": "7dd0fbec-0f66-41c2-b31c-29e936f261e2",
   "metadata": {},
   "outputs": [
    {
     "name": "stdout",
     "output_type": "stream",
     "text": [
      "1\n"
     ]
    }
   ],
   "source": [
    "#Listenin son elemanını nasıl bulabiliriz?\n",
    "\n",
    "print(liste[-1])"
   ]
  },
  {
   "cell_type": "code",
   "execution_count": 49,
   "id": "e6c4f138-db9f-4fd0-a35c-7f4f92ccd958",
   "metadata": {},
   "outputs": [
    {
     "name": "stdout",
     "output_type": "stream",
     "text": [
      "['a', 3]\n"
     ]
    }
   ],
   "source": [
    "# Listenin 2. ve 4. elemanlarını içeren yeni bir liste oluştur (İpucu [: :])\n",
    "\n",
    "yeni_liste = [liste[1], liste[3]]\n",
    "print(yeni_liste)"
   ]
  },
  {
   "cell_type": "code",
   "execution_count": 51,
   "id": "ffe6f7a9-78f9-4966-99d1-dc0e7a528f65",
   "metadata": {},
   "outputs": [
    {
     "name": "stdout",
     "output_type": "stream",
     "text": [
      "['a', 3]\n"
     ]
    }
   ],
   "source": [
    "yeni_liste = liste[1:4:2]\n",
    "print(yeni_liste)"
   ]
  },
  {
   "cell_type": "code",
   "execution_count": 57,
   "id": "e428821b-0ae1-46e2-8924-2a5c897533f2",
   "metadata": {},
   "outputs": [
    {
     "name": "stdout",
     "output_type": "stream",
     "text": [
      "['1', 'True', 5, 4, True, 3, 2, 'a', 1]\n"
     ]
    }
   ],
   "source": [
    "# Listeyi metod kullanarak nasıl ters sıralayabiliriz?\n",
    "\n",
    "liste = [1, 'a', 2, 3, True, 4, 5, 'True', '1']\n",
    "liste.reverse()\n",
    "print(liste)"
   ]
  },
  {
   "cell_type": "code",
   "execution_count": 59,
   "id": "df0ef3a8-891b-484a-8e3b-d1c33a44911c",
   "metadata": {},
   "outputs": [
    {
     "name": "stdout",
     "output_type": "stream",
     "text": [
      "[1, 'a', 2, 3, True, 4, 5, 'True', '1']\n"
     ]
    }
   ],
   "source": [
    "ters_liste = liste[::-1]\n",
    "print(ters_liste)"
   ]
  },
  {
   "cell_type": "code",
   "execution_count": 65,
   "id": "81b46992-d890-4d1a-b76b-655413f8e379",
   "metadata": {},
   "outputs": [],
   "source": [
    "ic_ice_liste = [1,2,3,[4,5]]\n",
    "\n",
    "# Yukarıdaki değişkeni kullanarak, aşağıdaki hücrelerde, şu işlemleri yanıtla: "
   ]
  },
  {
   "cell_type": "code",
   "execution_count": 67,
   "id": "9fe7e418-f18d-4563-9791-617964a43b48",
   "metadata": {},
   "outputs": [
    {
     "name": "stdout",
     "output_type": "stream",
     "text": [
      "5\n"
     ]
    }
   ],
   "source": [
    "# 5 değerine nasıl ulaşırız?\n",
    "\n",
    "print(ic_ice_liste[3][1])"
   ]
  },
  {
   "cell_type": "code",
   "execution_count": 69,
   "id": "de988037-4ed9-4d8c-8a6b-35a84d33b3d3",
   "metadata": {},
   "outputs": [
    {
     "name": "stdout",
     "output_type": "stream",
     "text": [
      "[4, 5]\n",
      "[1, 2, 3]\n"
     ]
    }
   ],
   "source": [
    "# ic_ice_liste değişkeninin son konumunda bulunan elemanını listeden atın ve bu kısmı bir değişkene atayın.\n",
    "\n",
    "son_eleman = ic_ice_liste.pop()\n",
    "print(son_eleman)       # [4, 5]\n",
    "print(ic_ice_liste)      # [1, 2, 3]     "
   ]
  },
  {
   "cell_type": "code",
   "execution_count": 81,
   "id": "08b498db-d93a-4d2a-bf36-4099d4532d97",
   "metadata": {},
   "outputs": [],
   "source": [
    "# pop komutunu kullanmayarak listeyi nasıl [1,2,[4,5]] seklinde cevir\n",
    "\n",
    "ic_ice_liste = [1, 2, 3, [4, 5]]\n",
    "del ic_ice_liste[2]\n",
    "# Şimdi: [1, 2, [4, 5]]"
   ]
  },
  {
   "cell_type": "code",
   "execution_count": null,
   "id": "deec8397-1bca-4034-9f99-8a85af1078df",
   "metadata": {},
   "outputs": [],
   "source": []
  }
 ],
 "metadata": {
  "kernelspec": {
   "display_name": "Python [conda env:base] *",
   "language": "python",
   "name": "conda-base-py"
  },
  "language_info": {
   "codemirror_mode": {
    "name": "ipython",
    "version": 3
   },
   "file_extension": ".py",
   "mimetype": "text/x-python",
   "name": "python",
   "nbconvert_exporter": "python",
   "pygments_lexer": "ipython3",
   "version": "3.12.7"
  }
 },
 "nbformat": 4,
 "nbformat_minor": 5
}
