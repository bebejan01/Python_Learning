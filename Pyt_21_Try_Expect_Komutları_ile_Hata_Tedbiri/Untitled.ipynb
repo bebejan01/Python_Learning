{
 "cells": [
  {
   "cell_type": "markdown",
   "id": "6fb6f674-6f57-4d18-9420-6b1bffe64be8",
   "metadata": {},
   "source": [
    "# Try, Except ve Finally Komutlari"
   ]
  },
  {
   "cell_type": "code",
   "execution_count": 14,
   "id": "63973a80-c033-4c84-b2b5-e57a7f312fa5",
   "metadata": {},
   "outputs": [
    {
     "data": {
      "text/plain": [
       "1"
      ]
     },
     "execution_count": 14,
     "metadata": {},
     "output_type": "execute_result"
    }
   ],
   "source": [
    "round(1.3)"
   ]
  },
  {
   "cell_type": "code",
   "execution_count": 26,
   "id": "13948361-d96c-415b-83c0-dbdb220a9cbf",
   "metadata": {},
   "outputs": [],
   "source": [
    "def tam_sayiya_cevir():\n",
    "    girdi = input(\"Bir ondalik sayi giriniz:\")\n",
    "\n",
    "    print(\"Yuvarlama isleminin sonucu: {}\".format(round(float(girdi))))"
   ]
  },
  {
   "cell_type": "code",
   "execution_count": 28,
   "id": "41006b65-202f-473c-86b1-c202269484c5",
   "metadata": {},
   "outputs": [
    {
     "name": "stdin",
     "output_type": "stream",
     "text": [
      "Bir ondalik sayi giriniz: 3.3\n"
     ]
    },
    {
     "name": "stdout",
     "output_type": "stream",
     "text": [
      "Yuvarlama isleminin sonucu: 3\n"
     ]
    }
   ],
   "source": [
    "tam_sayiya_cevir()"
   ]
  },
  {
   "cell_type": "code",
   "execution_count": 34,
   "id": "b54ff206-75cb-46e7-9ed3-54264cfaf125",
   "metadata": {},
   "outputs": [],
   "source": [
    "def tam_sayiya_cevir():\n",
    "    girdi = input(\"Bir ondalik sayi giriniz:\")\n",
    "\n",
    "    #print(\"Yuvarlama isleminin sonucu: {}\".format(round(float(girdi))))\n",
    "\n",
    "    try: \n",
    "        girdi = float(girdi)\n",
    "        print(\"Yuvarlama isleminin sonucu: {}\".format(round(girdi)))\n",
    "    except:\n",
    "        print(\"{} girdisi ondalik tipe cevrilemiyor.\".format(girdi))"
   ]
  },
  {
   "cell_type": "code",
   "execution_count": 36,
   "id": "fa26663b-d8d2-4ce2-b4a5-d06d4eb226c7",
   "metadata": {},
   "outputs": [
    {
     "name": "stdin",
     "output_type": "stream",
     "text": [
      "Bir ondalik sayi giriniz: 1.7\n"
     ]
    },
    {
     "name": "stdout",
     "output_type": "stream",
     "text": [
      "Yuvarlama isleminin sonucu: 2\n"
     ]
    }
   ],
   "source": [
    "tam_sayiya_cevir()"
   ]
  },
  {
   "cell_type": "code",
   "execution_count": 38,
   "id": "f46045ec-ce7a-4c62-b26d-208372e012dd",
   "metadata": {},
   "outputs": [
    {
     "name": "stdin",
     "output_type": "stream",
     "text": [
      "Bir ondalik sayi giriniz: a\n"
     ]
    },
    {
     "name": "stdout",
     "output_type": "stream",
     "text": [
      "a girdisi ondalik tipe cevrilemiyor.\n"
     ]
    }
   ],
   "source": [
    "tam_sayiya_cevir()"
   ]
  },
  {
   "cell_type": "code",
   "execution_count": 40,
   "id": "cb81d576-5ac2-4e67-ae45-f82cc3807cfc",
   "metadata": {},
   "outputs": [],
   "source": [
    "def tam_sayiya_cevir():\n",
    "    girdi = input(\"Bir ondalik sayi giriniz:\")\n",
    "\n",
    "    #print(\"Yuvarlama isleminin sonucu: {}\".format(round(float(girdi))))\n",
    "\n",
    "    try: \n",
    "        girdi = float(girdi)\n",
    "        #print(\"Yuvarlama isleminin sonucu: {}\".format(round(girdi)))\n",
    "    except:\n",
    "        print(\"{} girdisi ondalik tipe cevrilemiyor.\".format(girdi))\n",
    "    else:\n",
    "        print(\"Yuvarlama isleminin sonucu: {}\".format(round(girdi)))"
   ]
  },
  {
   "cell_type": "code",
   "execution_count": 42,
   "id": "c7bf3eb1-6950-48b3-9cc6-07773c5a12f9",
   "metadata": {},
   "outputs": [
    {
     "name": "stdin",
     "output_type": "stream",
     "text": [
      "Bir ondalik sayi giriniz: 4.3\n"
     ]
    },
    {
     "name": "stdout",
     "output_type": "stream",
     "text": [
      "Yuvarlama isleminin sonucu: 4\n"
     ]
    }
   ],
   "source": [
    "tam_sayiya_cevir()"
   ]
  },
  {
   "cell_type": "code",
   "execution_count": 48,
   "id": "edd216ac-f313-4e20-b711-f518585906bb",
   "metadata": {},
   "outputs": [],
   "source": [
    "def tam_sayiya_cevir():\n",
    "    girdi = input(\"Bir ondalik sayi giriniz:\")\n",
    "\n",
    "    #print(\"Yuvarlama isleminin sonucu: {}\".format(round(float(girdi))))\n",
    "    statu = ''\n",
    "    try: \n",
    "        girdi = float(girdi)\n",
    "        print(\"Yuvarlama isleminin sonucu: {}\".format(round(girdi)))\n",
    "        statu = 'basarili'\n",
    "    except:\n",
    "        print(\"{} girdisi ondalik tipe cevrilemiyor.\".format(girdi))\n",
    "        statu = 'basarisiz'\n",
    "    finally:\n",
    "        print('Tam sayiya cevirme islemi {} olarak tamamlandi!'.format(statu))\n",
    "        "
   ]
  },
  {
   "cell_type": "code",
   "execution_count": 50,
   "id": "1d18c15b-0642-485c-8f4f-7f51ea5a0910",
   "metadata": {},
   "outputs": [
    {
     "name": "stdin",
     "output_type": "stream",
     "text": [
      "Bir ondalik sayi giriniz: a\n"
     ]
    },
    {
     "name": "stdout",
     "output_type": "stream",
     "text": [
      "a girdisi ondalik tipe cevrilemiyor.\n",
      "Tam sayiya cevirme islemi basarisiz olarak tamamlandi!\n"
     ]
    }
   ],
   "source": [
    "tam_sayiya_cevir()"
   ]
  },
  {
   "cell_type": "code",
   "execution_count": 52,
   "id": "8a3b168d-a12e-44be-aa13-93d781d3d4e7",
   "metadata": {},
   "outputs": [
    {
     "name": "stdin",
     "output_type": "stream",
     "text": [
      "Bir ondalik sayi giriniz: 3.3\n"
     ]
    },
    {
     "name": "stdout",
     "output_type": "stream",
     "text": [
      "Yuvarlama isleminin sonucu: 3\n",
      "Tam sayiya cevirme islemi basarili olarak tamamlandi!\n"
     ]
    }
   ],
   "source": [
    "tam_sayiya_cevir()"
   ]
  },
  {
   "cell_type": "code",
   "execution_count": 54,
   "id": "fbb9829b-cf65-4453-82ff-1282d6ad883e",
   "metadata": {},
   "outputs": [],
   "source": [
    "def tam_sayiya_cevir():\n",
    "    \n",
    "    while True:\n",
    "        girdi = input(\"Bir ondalik sayi giriniz:\")\n",
    "\n",
    "    #print(\"Yuvarlama isleminin sonucu: {}\".format(round(float(girdi))))\n",
    "\n",
    "        try: \n",
    "            girdi = float(girdi)\n",
    "            print(\"Yuvarlama isleminin sonucu: {}\".format(round(girdi)))\n",
    "            break\n",
    "        except:\n",
    "            print(\"{} girdisi ondalik tipe cevrilemiyor.\".format(girdi))\n",
    "            pass"
   ]
  },
  {
   "cell_type": "code",
   "execution_count": 56,
   "id": "1ca6caab-afcd-44b8-af21-bd883233973d",
   "metadata": {},
   "outputs": [
    {
     "name": "stdin",
     "output_type": "stream",
     "text": [
      "Bir ondalik sayi giriniz: a\n"
     ]
    },
    {
     "name": "stdout",
     "output_type": "stream",
     "text": [
      "a girdisi ondalik tipe cevrilemiyor.\n"
     ]
    },
    {
     "name": "stdin",
     "output_type": "stream",
     "text": [
      "Bir ondalik sayi giriniz: b\n"
     ]
    },
    {
     "name": "stdout",
     "output_type": "stream",
     "text": [
      "b girdisi ondalik tipe cevrilemiyor.\n"
     ]
    },
    {
     "name": "stdin",
     "output_type": "stream",
     "text": [
      "Bir ondalik sayi giriniz: c\n"
     ]
    },
    {
     "name": "stdout",
     "output_type": "stream",
     "text": [
      "c girdisi ondalik tipe cevrilemiyor.\n"
     ]
    },
    {
     "name": "stdin",
     "output_type": "stream",
     "text": [
      "Bir ondalik sayi giriniz: 3\n"
     ]
    },
    {
     "name": "stdout",
     "output_type": "stream",
     "text": [
      "Yuvarlama isleminin sonucu: 3\n"
     ]
    }
   ],
   "source": [
    "tam_sayiya_cevir()"
   ]
  },
  {
   "cell_type": "code",
   "execution_count": 58,
   "id": "92e14c42-700f-4e20-9cdf-cfb239626f7e",
   "metadata": {},
   "outputs": [
    {
     "name": "stdin",
     "output_type": "stream",
     "text": [
      "Bir ondalik sayi giriniz: 3.3\n"
     ]
    },
    {
     "name": "stdout",
     "output_type": "stream",
     "text": [
      "Yuvarlama isleminin sonucu: 3\n"
     ]
    }
   ],
   "source": [
    "tam_sayiya_cevir()"
   ]
  },
  {
   "cell_type": "markdown",
   "id": "8cf5b406-1e7b-47e5-a297-34aef8d035bc",
   "metadata": {},
   "source": [
    "# Exception Tipleri"
   ]
  },
  {
   "cell_type": "code",
   "execution_count": 65,
   "id": "25ff8d1f-b527-42fc-8e19-9a7667db9cb9",
   "metadata": {},
   "outputs": [],
   "source": [
    "# 5 + 'a' TypeError"
   ]
  },
  {
   "cell_type": "code",
   "execution_count": 75,
   "id": "deb571f6-80ef-4467-aac3-f5e9d1f64f1b",
   "metadata": {},
   "outputs": [
    {
     "name": "stdout",
     "output_type": "stream",
     "text": [
      "girilen verilerle islem yapilamiyor.\n"
     ]
    }
   ],
   "source": [
    "try:\n",
    "    5 + 'a'\n",
    "except TypeError:\n",
    "    print(\"girilen verilerle islem yapilamiyor.\")"
   ]
  },
  {
   "cell_type": "code",
   "execution_count": 99,
   "id": "20555646-1a34-4496-a843-b2455a87c3c1",
   "metadata": {},
   "outputs": [
    {
     "ename": "TypeError",
     "evalue": "unsupported operand type(s) for +: 'int' and 'str'",
     "output_type": "error",
     "traceback": [
      "\u001b[1;31m---------------------------------------------------------------------------\u001b[0m",
      "\u001b[1;31mTypeError\u001b[0m                                 Traceback (most recent call last)",
      "Cell \u001b[1;32mIn[99], line 2\u001b[0m\n\u001b[0;32m      1\u001b[0m \u001b[38;5;28;01mtry\u001b[39;00m:\n\u001b[1;32m----> 2\u001b[0m     \u001b[38;5;241m5\u001b[39m \u001b[38;5;241m+\u001b[39m \u001b[38;5;124m'\u001b[39m\u001b[38;5;124ma\u001b[39m\u001b[38;5;124m'\u001b[39m\n\u001b[0;32m      3\u001b[0m \u001b[38;5;28;01mexcept\u001b[39;00m \u001b[38;5;167;01mIndexError\u001b[39;00m:\n\u001b[0;32m      4\u001b[0m     \u001b[38;5;28mprint\u001b[39m(\u001b[38;5;124m\"\u001b[39m\u001b[38;5;124mgirilen verilerle islem yapilamiyor.\u001b[39m\u001b[38;5;124m\"\u001b[39m)\n",
      "\u001b[1;31mTypeError\u001b[0m: unsupported operand type(s) for +: 'int' and 'str'"
     ]
    }
   ],
   "source": [
    "try:\n",
    "    5 + 'a'\n",
    "except IndexError:\n",
    "    print(\"girilen verilerle islem yapilamiyor.\")"
   ]
  },
  {
   "cell_type": "code",
   "execution_count": 101,
   "id": "9225436f-8295-4f3a-b0e9-e338f8a975b1",
   "metadata": {},
   "outputs": [
    {
     "name": "stdout",
     "output_type": "stream",
     "text": [
      "Kod duzgun calismiyor\n"
     ]
    }
   ],
   "source": [
    "try:\n",
    "    5 + 'a'\n",
    "except IndexError:\n",
    "    print(\"girilen verilerle islem yapilamiyor.\")\n",
    "except:\n",
    "    print('Kod duzgun calismiyor')"
   ]
  },
  {
   "cell_type": "code",
   "execution_count": 103,
   "id": "2a6d76af-0fb8-4d79-ab67-aa7e16453935",
   "metadata": {},
   "outputs": [
    {
     "ename": "IndexError",
     "evalue": "list index out of range",
     "output_type": "error",
     "traceback": [
      "\u001b[1;31m---------------------------------------------------------------------------\u001b[0m",
      "\u001b[1;31mIndexError\u001b[0m                                Traceback (most recent call last)",
      "Cell \u001b[1;32mIn[103], line 2\u001b[0m\n\u001b[0;32m      1\u001b[0m liste \u001b[38;5;241m=\u001b[39m []\n\u001b[1;32m----> 2\u001b[0m liste[\u001b[38;5;241m4\u001b[39m]\n",
      "\u001b[1;31mIndexError\u001b[0m: list index out of range"
     ]
    }
   ],
   "source": [
    "liste = []\n",
    "liste[4]   "
   ]
  },
  {
   "cell_type": "code",
   "execution_count": 113,
   "id": "088bf747-2a30-4e8e-a403-c3d3b86afc49",
   "metadata": {},
   "outputs": [
    {
     "name": "stdout",
     "output_type": "stream",
     "text": [
      "Indexlemeye çalıştığınız eleman listenin dışında.\n"
     ]
    }
   ],
   "source": [
    "liste = []\n",
    "\n",
    "try:\n",
    "    liste[-1]\n",
    "except IndexError:\n",
    "    print('Indexlemeye çalıştığınız eleman listenin dışında.')\n",
    "except:\n",
    "    print('Kod duzgun calismiyor')"
   ]
  },
  {
   "cell_type": "code",
   "execution_count": 121,
   "id": "98d49f9b-5be2-4a44-bacf-859d4320d5b5",
   "metadata": {},
   "outputs": [
    {
     "ename": "KeyError",
     "evalue": "'PASS_NO'",
     "output_type": "error",
     "traceback": [
      "\u001b[1;31m---------------------------------------------------------------------------\u001b[0m",
      "\u001b[1;31mKeyError\u001b[0m                                  Traceback (most recent call last)",
      "Cell \u001b[1;32mIn[121], line 6\u001b[0m\n\u001b[0;32m      1\u001b[0m vatandas \u001b[38;5;241m=\u001b[39m {\n\u001b[0;32m      2\u001b[0m     \u001b[38;5;124m'\u001b[39m\u001b[38;5;124mAD\u001b[39m\u001b[38;5;124m'\u001b[39m : \u001b[38;5;124m'\u001b[39m\u001b[38;5;124mOguz\u001b[39m\u001b[38;5;124m'\u001b[39m,\n\u001b[0;32m      3\u001b[0m     \u001b[38;5;124m'\u001b[39m\u001b[38;5;124mTC_NO\u001b[39m\u001b[38;5;124m'\u001b[39m: \u001b[38;5;241m123123\u001b[39m\n\u001b[0;32m      4\u001b[0m }\n\u001b[1;32m----> 6\u001b[0m vatandas[\u001b[38;5;124m'\u001b[39m\u001b[38;5;124mPASS_NO\u001b[39m\u001b[38;5;124m'\u001b[39m]\n",
      "\u001b[1;31mKeyError\u001b[0m: 'PASS_NO'"
     ]
    }
   ],
   "source": [
    "vatandas = {\n",
    "    'AD' : 'Oguz',\n",
    "    'TC_NO': 123123\n",
    "}\n",
    "\n",
    "vatandas['PASS_NO']"
   ]
  },
  {
   "cell_type": "code",
   "execution_count": 123,
   "id": "e4e271f2-21f4-40fe-bd8c-ec22886fca81",
   "metadata": {},
   "outputs": [
    {
     "name": "stdout",
     "output_type": "stream",
     "text": [
      "Aranan dictionary de verilen anahtar degeri mevcut degil.\n"
     ]
    }
   ],
   "source": [
    "vatandas = {\n",
    "    'AD' : 'Oguz',\n",
    "    'TC_NO': 123123\n",
    "}\n",
    "\n",
    "try:\n",
    "    vatandas['PASS_NO']\n",
    "except IndexError:\n",
    "    print('Indexlemeye çalıştığınız eleman listenin dışında.')\n",
    "except KeyError:\n",
    "    print('Aranan dictionary de verilen anahtar degeri mevcut degil.')\n",
    "except:\n",
    "    print('Kod duzgun calismiyor')"
   ]
  },
  {
   "cell_type": "code",
   "execution_count": null,
   "id": "fec37fb1-ccee-4e95-ad26-7b5e70fe58a3",
   "metadata": {},
   "outputs": [],
   "source": []
  }
 ],
 "metadata": {
  "kernelspec": {
   "display_name": "Python [conda env:base] *",
   "language": "python",
   "name": "conda-base-py"
  },
  "language_info": {
   "codemirror_mode": {
    "name": "ipython",
    "version": 3
   },
   "file_extension": ".py",
   "mimetype": "text/x-python",
   "name": "python",
   "nbconvert_exporter": "python",
   "pygments_lexer": "ipython3",
   "version": "3.12.7"
  }
 },
 "nbformat": 4,
 "nbformat_minor": 5
}
