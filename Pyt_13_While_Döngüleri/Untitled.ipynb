{
 "cells": [
  {
   "cell_type": "markdown",
   "id": "68133bb7-d2f8-4dc5-ab71-71071cbaeb02",
   "metadata": {},
   "source": [
    "# While Döngüleri"
   ]
  },
  {
   "cell_type": "code",
   "execution_count": 1,
   "id": "185024f0-daa2-4695-819e-e22686ac7c9c",
   "metadata": {},
   "outputs": [],
   "source": [
    "# kullanim yapisi\n",
    "# while <sart dogruyken>:\n",
    "#     <burada yazilani yap>"
   ]
  },
  {
   "cell_type": "code",
   "execution_count": 3,
   "id": "abd3917e-83fe-4f77-ac97-461d88d5e721",
   "metadata": {},
   "outputs": [
    {
     "name": "stdout",
     "output_type": "stream",
     "text": [
      "0 degeri 10'dan kucuktur\n",
      "1 degeri 10'dan kucuktur\n",
      "2 degeri 10'dan kucuktur\n",
      "3 degeri 10'dan kucuktur\n",
      "4 degeri 10'dan kucuktur\n",
      "5 degeri 10'dan kucuktur\n",
      "6 degeri 10'dan kucuktur\n",
      "7 degeri 10'dan kucuktur\n",
      "8 degeri 10'dan kucuktur\n",
      "9 degeri 10'dan kucuktur\n"
     ]
    }
   ],
   "source": [
    "x = 0\n",
    "\n",
    "while x < 10:\n",
    "    print(\"{} degeri 10'dan kucuktur\".format(x))\n",
    "    x += 1"
   ]
  },
  {
   "cell_type": "code",
   "execution_count": 5,
   "id": "fe7ca035-dd1a-444c-af52-ce228dd9d95e",
   "metadata": {},
   "outputs": [],
   "source": [
    "# kullanim yapisi\n",
    "# while <sart dogruyken>:\n",
    "#    <burada yazilani yap>\n",
    "# else:\n",
    "#    <burada yazilani yap>"
   ]
  },
  {
   "cell_type": "code",
   "execution_count": 8,
   "id": "f55fd8c2-6f39-474a-9300-27671bcf8adf",
   "metadata": {},
   "outputs": [
    {
     "name": "stdout",
     "output_type": "stream",
     "text": [
      "0 degeri 10'dan kucuktur.\n",
      "1 degeri 10'dan kucuktur.\n",
      "2 degeri 10'dan kucuktur.\n",
      "3 degeri 10'dan kucuktur.\n",
      "4 degeri 10'dan kucuktur.\n",
      "5 degeri 10'dan kucuktur.\n",
      "6 degeri 10'dan kucuktur.\n",
      "7 degeri 10'dan kucuktur.\n",
      "8 degeri 10'dan kucuktur.\n",
      "9 degeri 10'dan kucuktur.\n",
      "10 degeri 10'dan kucuk degil.\n"
     ]
    }
   ],
   "source": [
    "x = 0\n",
    "\n",
    "while x < 10:\n",
    "    print(\"{} degeri 10'dan kucuktur.\".format(x))\n",
    "    x += 1\n",
    "else:\n",
    "    print(\"{} degeri 10'dan kucuk degil.\".format(x))"
   ]
  },
  {
   "cell_type": "code",
   "execution_count": 10,
   "id": "31603ffa-4b9c-45bf-9ebc-bb0851a89d02",
   "metadata": {},
   "outputs": [],
   "source": [
    "# Faktöriyel\n",
    "# 3! = 3*2*1 = 6"
   ]
  },
  {
   "cell_type": "code",
   "execution_count": 32,
   "id": "e732deb0-aee6-4270-b5e4-aecd938cc065",
   "metadata": {},
   "outputs": [
    {
     "name": "stdout",
     "output_type": "stream",
     "text": [
      "6\n",
      "30\n",
      "120\n",
      "360\n",
      "720\n",
      "720\n"
     ]
    }
   ],
   "source": [
    "sayi = 6\n",
    "sonuc = 1\n",
    "\n",
    "while sayi > 0:\n",
    "    sonuc = sonuc * sayi\n",
    "    sayi -= 1\n",
    "    print(sonuc)"
   ]
  },
  {
   "cell_type": "code",
   "execution_count": 34,
   "id": "383d87a3-bac0-4969-8f29-4c1f4d1f2306",
   "metadata": {},
   "outputs": [
    {
     "name": "stdout",
     "output_type": "stream",
     "text": [
      "720\n"
     ]
    }
   ],
   "source": [
    "sayi = 6\n",
    "sonuc = 1\n",
    "\n",
    "while sayi > 0:\n",
    "    sonuc = sonuc * sayi\n",
    "    sayi -= 1\n",
    "    \n",
    "print(sonuc)"
   ]
  },
  {
   "cell_type": "code",
   "execution_count": null,
   "id": "2229f64b-4ba9-4f1d-8519-9d81127869a3",
   "metadata": {},
   "outputs": [],
   "source": []
  }
 ],
 "metadata": {
  "kernelspec": {
   "display_name": "Python [conda env:base] *",
   "language": "python",
   "name": "conda-base-py"
  },
  "language_info": {
   "codemirror_mode": {
    "name": "ipython",
    "version": 3
   },
   "file_extension": ".py",
   "mimetype": "text/x-python",
   "name": "python",
   "nbconvert_exporter": "python",
   "pygments_lexer": "ipython3",
   "version": "3.12.7"
  }
 },
 "nbformat": 4,
 "nbformat_minor": 5
}
