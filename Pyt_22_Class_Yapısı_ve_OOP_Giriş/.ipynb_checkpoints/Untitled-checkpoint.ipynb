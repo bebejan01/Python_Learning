{
 "cells": [
  {
   "cell_type": "raw",
   "id": "237a642d-f1d3-4eea-9386-acf20cbff646",
   "metadata": {},
   "source": [
    " class <Class Ismi>():    ### class isimleri, genelin aksine büyük harfle baslar (zorunluluk degil)\n",
    "\n",
    "    <class attr>         ### class attribute, olusturulanin aksine genel degerleri icerir\n",
    "\n",
    "    def __init__(self, <attr>):    ### init, instantiation yani örneklendirmenin kisaltmasidir\n",
    "        self.<instance attr> = attr    ### instance attribute'lar, olusturulan örnege özgüdür\n",
    "        ...\n",
    "\n",
    "    def <method>(self, <params>):    ### methodlar class'a özgü fonksiyonlardir\n",
    "        ...\n",
    "        return ..."
   ]
  },
  {
   "cell_type": "markdown",
   "id": "7e168aa9-5f15-4eb1-be2c-50f4eb96e382",
   "metadata": {},
   "source": [
    "### Clas Oluşturma, Attribute'lar ve Methodlar"
   ]
  },
  {
   "cell_type": "code",
   "execution_count": 8,
   "id": "e80005f5-18e4-4030-93cf-03a6fb8e3630",
   "metadata": {},
   "outputs": [],
   "source": [
    "class Ucus():\n",
    "    havayolu = \"THY\""
   ]
  },
  {
   "cell_type": "code",
   "execution_count": 10,
   "id": "6a4fdb75-5019-4c03-b3f6-04f52f4ffefc",
   "metadata": {},
   "outputs": [],
   "source": [
    "ucus1 = Ucus()"
   ]
  },
  {
   "cell_type": "code",
   "execution_count": 12,
   "id": "9a8bccd8-3e8c-4ec0-842e-38704209d6d9",
   "metadata": {},
   "outputs": [
    {
     "data": {
      "text/plain": [
       "'THY'"
      ]
     },
     "execution_count": 12,
     "metadata": {},
     "output_type": "execute_result"
    }
   ],
   "source": [
    "ucus1.havayolu"
   ]
  },
  {
   "cell_type": "code",
   "execution_count": 22,
   "id": "71de5fba-ab81-4e8f-a51f-0a3aa6558a68",
   "metadata": {},
   "outputs": [],
   "source": [
    "class Ucus():\n",
    "    havayolu = \"THY\"\n",
    "\n",
    "    def __init__(self, kod, kalkis, varis, sure, kapasite, yolcu):\n",
    "        self.kod = kod\n",
    "        self.kalkis = kalkis\n",
    "        self.varis = varis\n",
    "        self.sure = sure\n",
    "        self.kapasite = kapasite\n",
    "        self.yolcu = yolcu"
   ]
  },
  {
   "cell_type": "code",
   "execution_count": 24,
   "id": "a96c604e-6a27-4ae7-b92a-aa4aec4e298b",
   "metadata": {},
   "outputs": [
    {
     "ename": "TypeError",
     "evalue": "Ucus.__init__() missing 6 required positional arguments: 'kod', 'kalkis', 'varis', 'sure', 'kapasite', and 'yolcu'",
     "output_type": "error",
     "traceback": [
      "\u001b[1;31m---------------------------------------------------------------------------\u001b[0m",
      "\u001b[1;31mTypeError\u001b[0m                                 Traceback (most recent call last)",
      "Cell \u001b[1;32mIn[24], line 1\u001b[0m\n\u001b[1;32m----> 1\u001b[0m ucus2 \u001b[38;5;241m=\u001b[39m Ucus()\n",
      "\u001b[1;31mTypeError\u001b[0m: Ucus.__init__() missing 6 required positional arguments: 'kod', 'kalkis', 'varis', 'sure', 'kapasite', and 'yolcu'"
     ]
    }
   ],
   "source": [
    "ucus2 = Ucus()"
   ]
  },
  {
   "cell_type": "code",
   "execution_count": 26,
   "id": "415eb3bf-d60f-4f0c-8616-20b3761ebeb7",
   "metadata": {},
   "outputs": [],
   "source": [
    "ucus2 = Ucus('TK123','IST','ANK','60','300','50')"
   ]
  },
  {
   "cell_type": "code",
   "execution_count": 28,
   "id": "36fa3c9c-4ce4-4dcd-a5ee-c1b86e696304",
   "metadata": {},
   "outputs": [
    {
     "data": {
      "text/plain": [
       "'TK123'"
      ]
     },
     "execution_count": 28,
     "metadata": {},
     "output_type": "execute_result"
    }
   ],
   "source": [
    "ucus2.kod"
   ]
  },
  {
   "cell_type": "code",
   "execution_count": 32,
   "id": "14bdfa44-ed68-47b8-8946-1e547eb482a3",
   "metadata": {},
   "outputs": [
    {
     "data": {
      "text/plain": [
       "'IST'"
      ]
     },
     "execution_count": 32,
     "metadata": {},
     "output_type": "execute_result"
    }
   ],
   "source": [
    "ucus2.kalkis"
   ]
  },
  {
   "cell_type": "code",
   "execution_count": 34,
   "id": "1bd03963-488a-4a00-8834-7df054f32a3b",
   "metadata": {},
   "outputs": [
    {
     "data": {
      "text/plain": [
       "'60'"
      ]
     },
     "execution_count": 34,
     "metadata": {},
     "output_type": "execute_result"
    }
   ],
   "source": [
    "ucus2.sure"
   ]
  },
  {
   "cell_type": "code",
   "execution_count": 36,
   "id": "b798564e-9200-4a10-bfc9-2f560aa87333",
   "metadata": {},
   "outputs": [
    {
     "data": {
      "text/plain": [
       "'THY'"
      ]
     },
     "execution_count": 36,
     "metadata": {},
     "output_type": "execute_result"
    }
   ],
   "source": [
    "ucus2.havayolu"
   ]
  },
  {
   "cell_type": "code",
   "execution_count": 38,
   "id": "caccdedc-291a-4a90-8b18-deafd434ced1",
   "metadata": {},
   "outputs": [],
   "source": [
    "ucus3 = Ucus('TK223','BOD','ANT','40','250','250')"
   ]
  },
  {
   "cell_type": "code",
   "execution_count": 40,
   "id": "b2083fe4-6fd1-4d3b-9ebf-eb4f7e55433d",
   "metadata": {},
   "outputs": [
    {
     "data": {
      "text/plain": [
       "'TK223'"
      ]
     },
     "execution_count": 40,
     "metadata": {},
     "output_type": "execute_result"
    }
   ],
   "source": [
    "ucus3.kod"
   ]
  },
  {
   "cell_type": "code",
   "execution_count": 42,
   "id": "f545fcf7-d309-4095-be0e-8aafb3245937",
   "metadata": {},
   "outputs": [
    {
     "data": {
      "text/plain": [
       "'THY'"
      ]
     },
     "execution_count": 42,
     "metadata": {},
     "output_type": "execute_result"
    }
   ],
   "source": [
    "ucus3.havayolu"
   ]
  },
  {
   "cell_type": "code",
   "execution_count": 46,
   "id": "11c312ed-7e41-4d86-9427-ce0effc5a4ac",
   "metadata": {},
   "outputs": [],
   "source": [
    "class Ucus():\n",
    "    havayolu = \"THY\"\n",
    "\n",
    "    def __init__(self, kod, kalkis, varis, sure, kapasite, yolcu):\n",
    "        self.kod = kod\n",
    "        self.kalkis = kalkis\n",
    "        self.varis = varis\n",
    "        self.sure = sure\n",
    "        self.kapasite = kapasite\n",
    "        self.yolcu = yolcu\n",
    "\n",
    "    def anons_yap(self):\n",
    "        return \"{} sefer sayili {}-{} ucusumuz {} dakika sürecektir.\".format(\n",
    "            self.kod,\n",
    "            self.kalkis,\n",
    "            self.varis,\n",
    "            self.sure)"
   ]
  },
  {
   "cell_type": "code",
   "execution_count": 48,
   "id": "a80f696f-240d-4c8b-9a95-0e1596387b5d",
   "metadata": {},
   "outputs": [],
   "source": [
    "ucus3 = Ucus('TK223','BOD','ANT','40','250','250')"
   ]
  },
  {
   "cell_type": "code",
   "execution_count": 50,
   "id": "8a68ac1f-9da0-494d-b6f2-2ff93c49c611",
   "metadata": {},
   "outputs": [
    {
     "data": {
      "text/plain": [
       "'TK223 sefer sayili BOD-ANT ucusumuz 40 dakika sürecektir.'"
      ]
     },
     "execution_count": 50,
     "metadata": {},
     "output_type": "execute_result"
    }
   ],
   "source": [
    "ucus3.anons_yap()"
   ]
  },
  {
   "cell_type": "code",
   "execution_count": null,
   "id": "6d88db42-4168-404b-affc-d4e5415fac3f",
   "metadata": {},
   "outputs": [],
   "source": []
  }
 ],
 "metadata": {
  "kernelspec": {
   "display_name": "Python [conda env:base] *",
   "language": "python",
   "name": "conda-base-py"
  },
  "language_info": {
   "codemirror_mode": {
    "name": "ipython",
    "version": 3
   },
   "file_extension": ".py",
   "mimetype": "text/x-python",
   "name": "python",
   "nbconvert_exporter": "python",
   "pygments_lexer": "ipython3",
   "version": "3.12.7"
  }
 },
 "nbformat": 4,
 "nbformat_minor": 5
}
