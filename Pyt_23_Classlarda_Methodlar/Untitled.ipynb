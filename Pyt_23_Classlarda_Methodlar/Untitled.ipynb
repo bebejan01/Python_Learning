{
 "cells": [
  {
   "cell_type": "code",
   "execution_count": 115,
   "id": "8530ce9c-28bc-43da-8c24-7d4e152d31ab",
   "metadata": {},
   "outputs": [],
   "source": [
    "class Ucus():\n",
    "    havayolu = \"THY\"\n",
    "\n",
    "    def __init__(self, kod, kalkis, varis, sure, kapasite, yolcu):\n",
    "        self.kod = kod\n",
    "        self.kalkis = kalkis\n",
    "        self.varis = varis\n",
    "        self.sure = sure\n",
    "        self.kapasite = kapasite\n",
    "        self.yolcu = yolcu\n",
    "\n",
    "    def anons_yap(self):\n",
    "        return \"{} sefer sayili {}-{} ucusumuz {} dakika surecektir.\".format(\n",
    "        self.kod,\n",
    "        self.kalkis,\n",
    "        self.varis,\n",
    "        self.sure)\n",
    "\n",
    "    def koltuk_sayisi_guncelle(self):\n",
    "        return self.kapasite - self.yolcu\n",
    "\n",
    "    def bilet_satis(self, bilet_adedi=1):\n",
    "        if self.yolcu + bilet_adedi <= self.kapasite:\n",
    "            self.yolcu += bilet_adedi \n",
    "            #self.yolcu = self.yolcu + bilet_adedi \n",
    "            self.koltuk_sayisi_guncelle()\n",
    "            print(\"{} adet bilet satilmistir, kalan koltuk sayisi {}\".format(bilet_adedi,self.koltuk_sayisi_guncelle()))\n",
    "        else:\n",
    "            print(\"Islem gerceklestirilmedi. Yetersiz koltuk sayisi..\")\n",
    "\n",
    "    def bilet_iptal(self, bilet_adedi=1):\n",
    "        if self.yolcu >= bilet_adedi:\n",
    "            self.yolcu -= bilet_adedi\n",
    "            print(\"{} adet bilet iptal edilmistir, guncel koltuk sayisi {}\".format(bilet_adedi,self.koltuk_sayisi_guncelle()))\n",
    "        else:\n",
    "            print(\"Islem gerceklestirilmedi. İptal edilecek kadar yolcu yok..\")\n"
   ]
  },
  {
   "cell_type": "code",
   "execution_count": 117,
   "id": "3409ca4b-6d1c-4e60-94eb-f9d89530cfd8",
   "metadata": {},
   "outputs": [],
   "source": [
    "ucus3 = Ucus('TK123', 'BOD', 'ANT', 40, 250, 200)"
   ]
  },
  {
   "cell_type": "code",
   "execution_count": 119,
   "id": "9bbcd4d6-922b-4f01-bb02-bea66af49676",
   "metadata": {},
   "outputs": [
    {
     "data": {
      "text/plain": [
       "50"
      ]
     },
     "execution_count": 119,
     "metadata": {},
     "output_type": "execute_result"
    }
   ],
   "source": [
    "ucus3.koltuk_sayisi_guncelle()"
   ]
  },
  {
   "cell_type": "code",
   "execution_count": 121,
   "id": "cb6b7550-d088-4810-9096-939d45df75e9",
   "metadata": {},
   "outputs": [
    {
     "name": "stdout",
     "output_type": "stream",
     "text": [
      "5 adet bilet satilmistir, kalan koltuk sayisi 45\n"
     ]
    }
   ],
   "source": [
    "ucus3.bilet_satis(5)"
   ]
  },
  {
   "cell_type": "code",
   "execution_count": 123,
   "id": "1204d878-fa77-4d24-9e69-c152eb0e5dac",
   "metadata": {},
   "outputs": [
    {
     "name": "stdout",
     "output_type": "stream",
     "text": [
      "1 adet bilet iptal edilmistir, guncel koltuk sayisi 46\n"
     ]
    }
   ],
   "source": [
    "ucus3.bilet_iptal()"
   ]
  },
  {
   "cell_type": "code",
   "execution_count": 125,
   "id": "b1656d0f-6e01-4cae-8d89-a0828103fe65",
   "metadata": {},
   "outputs": [
    {
     "name": "stdout",
     "output_type": "stream",
     "text": [
      "Islem gerceklestirilmedi. İptal edilecek kadar yolcu yok..\n"
     ]
    }
   ],
   "source": [
    "ucus3.bilet_iptal(300)"
   ]
  },
  {
   "cell_type": "code",
   "execution_count": 127,
   "id": "53b6842e-6ca8-4a3e-84b5-926f9deb15f9",
   "metadata": {},
   "outputs": [
    {
     "name": "stdout",
     "output_type": "stream",
     "text": [
      "Islem gerceklestirilmedi. Yetersiz koltuk sayisi..\n"
     ]
    }
   ],
   "source": [
    "ucus3.bilet_satis(50)"
   ]
  },
  {
   "cell_type": "code",
   "execution_count": 129,
   "id": "859fa52f-822c-4eb9-8120-de4141388fbd",
   "metadata": {},
   "outputs": [
    {
     "data": {
      "text/plain": [
       "46"
      ]
     },
     "execution_count": 129,
     "metadata": {},
     "output_type": "execute_result"
    }
   ],
   "source": [
    "ucus3.koltuk_sayisi_guncelle()"
   ]
  },
  {
   "cell_type": "code",
   "execution_count": null,
   "id": "8b4ee9ea-509a-4df4-a36b-054bee10aabe",
   "metadata": {},
   "outputs": [],
   "source": []
  }
 ],
 "metadata": {
  "kernelspec": {
   "display_name": "Python [conda env:base] *",
   "language": "python",
   "name": "conda-base-py"
  },
  "language_info": {
   "codemirror_mode": {
    "name": "ipython",
    "version": 3
   },
   "file_extension": ".py",
   "mimetype": "text/x-python",
   "name": "python",
   "nbconvert_exporter": "python",
   "pygments_lexer": "ipython3",
   "version": "3.12.7"
  }
 },
 "nbformat": 4,
 "nbformat_minor": 5
}
