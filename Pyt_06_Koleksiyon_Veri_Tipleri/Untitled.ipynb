{
 "cells": [
  {
   "cell_type": "code",
   "execution_count": 33,
   "id": "46205775-c47a-4baf-9686-c5e228c87739",
   "metadata": {},
   "outputs": [],
   "source": [
    "# List & set"
   ]
  },
  {
   "cell_type": "code",
   "execution_count": 35,
   "id": "2d1c4768-2847-4bad-a0f0-d1db6f71f656",
   "metadata": {},
   "outputs": [],
   "source": [
    "# [ a,  b,  c,  d,  e,  a]\n",
    "\n",
    "#   0,  1,  2,  3,  4,  5\n",
    "#   0  -5, -4, -3, -2, -1,  "
   ]
  },
  {
   "cell_type": "code",
   "execution_count": 37,
   "id": "239ae0ae-1dc5-4d4a-8a9d-8213f8c6de79",
   "metadata": {},
   "outputs": [
    {
     "name": "stdout",
     "output_type": "stream",
     "text": [
      "['a', 'b', 'c', 'd', 'e', 'a']\n"
     ]
    }
   ],
   "source": [
    "liste = ['a', 'b', 'c', 'd', 'e', 'a']\n",
    "print(liste)"
   ]
  },
  {
   "cell_type": "code",
   "execution_count": 39,
   "id": "5fdabb46-44a6-46bc-a051-c6fffea5c3dc",
   "metadata": {},
   "outputs": [
    {
     "data": {
      "text/plain": [
       "['a', 'b', 'c', 'd', 'e', 'a', 'f']"
      ]
     },
     "execution_count": 39,
     "metadata": {},
     "output_type": "execute_result"
    }
   ],
   "source": [
    "liste = liste + ['f']\n",
    "liste"
   ]
  },
  {
   "cell_type": "code",
   "execution_count": 41,
   "id": "7108e5e2-687f-4fde-b4f6-46c0b37e51e0",
   "metadata": {},
   "outputs": [
    {
     "data": {
      "text/plain": [
       "'a'"
      ]
     },
     "execution_count": 41,
     "metadata": {},
     "output_type": "execute_result"
    }
   ],
   "source": [
    "liste[0]"
   ]
  },
  {
   "cell_type": "code",
   "execution_count": 43,
   "id": "c17532e4-fad8-4fa8-9d87-13a2c9e99803",
   "metadata": {},
   "outputs": [
    {
     "data": {
      "text/plain": [
       "['d', 'e']"
      ]
     },
     "execution_count": 43,
     "metadata": {},
     "output_type": "execute_result"
    }
   ],
   "source": [
    "liste[3:5]"
   ]
  },
  {
   "cell_type": "code",
   "execution_count": 45,
   "id": "0fe003b1-504c-41dc-a97f-03148b38064a",
   "metadata": {},
   "outputs": [
    {
     "name": "stdout",
     "output_type": "stream",
     "text": [
      "['a', 'b', 'c', 'd', 'e', 'a', 'g']\n"
     ]
    }
   ],
   "source": [
    "liste = ['a', 'b', 'c', 'd', 'e', 'a']  # mevcut listen\n",
    "liste.append('g')                      # eleman ekle\n",
    "print(liste)                           # çıktıyı gör"
   ]
  },
  {
   "cell_type": "code",
   "execution_count": 47,
   "id": "902b792c-0f11-49b4-a076-f33d0fcb2067",
   "metadata": {},
   "outputs": [
    {
     "data": {
      "text/plain": [
       "'g'"
      ]
     },
     "execution_count": 47,
     "metadata": {},
     "output_type": "execute_result"
    }
   ],
   "source": [
    "liste.pop()"
   ]
  },
  {
   "cell_type": "code",
   "execution_count": 49,
   "id": "a3446fdc-27a8-4c40-8104-00965aca8807",
   "metadata": {},
   "outputs": [
    {
     "data": {
      "text/plain": [
       "['a', 'b', 'c', 'd', 'e', 'a']"
      ]
     },
     "execution_count": 49,
     "metadata": {},
     "output_type": "execute_result"
    }
   ],
   "source": [
    "liste"
   ]
  },
  {
   "cell_type": "code",
   "execution_count": 52,
   "id": "e89eabcf-3953-4157-84ff-aa9ba6d39d92",
   "metadata": {},
   "outputs": [
    {
     "name": "stdout",
     "output_type": "stream",
     "text": [
      "['a', 'b', 'c', 'e', 'a']\n"
     ]
    }
   ],
   "source": [
    "liste.pop(3)\n",
    "print(liste)"
   ]
  },
  {
   "cell_type": "code",
   "execution_count": 54,
   "id": "9f01a0e2-74e7-420d-9b20-ff8f445d3fe1",
   "metadata": {},
   "outputs": [],
   "source": [
    "sayilar = [123, 232, 4546, 7567, 7867, 46, 1, 1]"
   ]
  },
  {
   "cell_type": "code",
   "execution_count": 56,
   "id": "1e517c16-fdce-41f3-92be-04b62d7380e1",
   "metadata": {},
   "outputs": [],
   "source": [
    "sayilar.sort()"
   ]
  },
  {
   "cell_type": "code",
   "execution_count": 58,
   "id": "942ab9bc-7e12-40c3-910a-62793588f7ac",
   "metadata": {},
   "outputs": [
    {
     "data": {
      "text/plain": [
       "[1, 1, 46, 123, 232, 4546, 7567, 7867]"
      ]
     },
     "execution_count": 58,
     "metadata": {},
     "output_type": "execute_result"
    }
   ],
   "source": [
    "sayilar"
   ]
  },
  {
   "cell_type": "code",
   "execution_count": 60,
   "id": "c67edf7e-7bef-4ea3-8bd9-7f95612b1067",
   "metadata": {},
   "outputs": [
    {
     "name": "stdout",
     "output_type": "stream",
     "text": [
      "[7867, 7567, 4546, 232, 123, 46, 1, 1]\n"
     ]
    }
   ],
   "source": [
    "sayilar.reverse()\n",
    "print(sayilar)"
   ]
  },
  {
   "cell_type": "code",
   "execution_count": 62,
   "id": "0b9987c0-01f4-4969-ba6f-89f7b8f1d5d5",
   "metadata": {},
   "outputs": [
    {
     "data": {
      "text/plain": [
       "[7867, 7567, 4546, 232, 123, 46, 1, 1]"
      ]
     },
     "execution_count": 62,
     "metadata": {},
     "output_type": "execute_result"
    }
   ],
   "source": [
    "sayilar"
   ]
  },
  {
   "cell_type": "code",
   "execution_count": 64,
   "id": "f834b6dd-a141-407b-b50d-8c2294c65a4c",
   "metadata": {},
   "outputs": [
    {
     "data": {
      "text/plain": [
       "{1, 46, 123, 232, 4546, 7567, 7867}"
      ]
     },
     "execution_count": 64,
     "metadata": {},
     "output_type": "execute_result"
    }
   ],
   "source": [
    "set(sayilar)"
   ]
  },
  {
   "cell_type": "code",
   "execution_count": null,
   "id": "232901f7-29d2-47b7-b73f-0e1b9f16d8c5",
   "metadata": {},
   "outputs": [],
   "source": []
  }
 ],
 "metadata": {
  "kernelspec": {
   "display_name": "Python [conda env:base] *",
   "language": "python",
   "name": "conda-base-py"
  },
  "language_info": {
   "codemirror_mode": {
    "name": "ipython",
    "version": 3
   },
   "file_extension": ".py",
   "mimetype": "text/x-python",
   "name": "python",
   "nbconvert_exporter": "python",
   "pygments_lexer": "ipython3",
   "version": "3.12.7"
  }
 },
 "nbformat": 4,
 "nbformat_minor": 5
}
