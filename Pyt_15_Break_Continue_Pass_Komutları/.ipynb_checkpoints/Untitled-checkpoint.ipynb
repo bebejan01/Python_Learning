{
 "cells": [
  {
   "cell_type": "markdown",
   "id": "4e6a3bca-76fb-4296-b6c6-42fb9165ee03",
   "metadata": {},
   "source": [
    "# Break"
   ]
  },
  {
   "cell_type": "code",
   "execution_count": 18,
   "id": "84d3e978-014a-4725-8c17-8ad0b3bd7efb",
   "metadata": {},
   "outputs": [
    {
     "name": "stdout",
     "output_type": "stream",
     "text": [
      "(0, 'a')\n",
      "(1, 'b')\n",
      "(2, 'c')\n",
      "(3, 'd')\n",
      "(4, 'e')\n"
     ]
    }
   ],
   "source": [
    "harfler = ['a','b','c','d','e']\n",
    "\n",
    "for harf in enumerate(harfler):\n",
    "    print(harf)"
   ]
  },
  {
   "cell_type": "code",
   "execution_count": 12,
   "id": "5e42caf3-50a1-4906-be29-1431e1dd7d22",
   "metadata": {},
   "outputs": [
    {
     "name": "stdout",
     "output_type": "stream",
     "text": [
      "c harfi 2. indexte!\n"
     ]
    }
   ],
   "source": [
    "harfler = ['a','b','c','d','e']\n",
    "\n",
    "for index, harf in enumerate(harfler):\n",
    "    if harf == 'c':\n",
    "        print(\"{} harfi {}. indexte!\".format(harf, index))"
   ]
  },
  {
   "cell_type": "code",
   "execution_count": 22,
   "id": "ff2a5d67-8b39-45b5-b4e4-0b64e07a4ac8",
   "metadata": {},
   "outputs": [
    {
     "name": "stdout",
     "output_type": "stream",
     "text": [
      "c harfi 2. indexte!\n",
      "c harfi 7. indexte!\n",
      "c harfi 12. indexte!\n",
      "c harfi 17. indexte!\n",
      "c harfi 22. indexte!\n",
      "c harfi 27. indexte!\n",
      "c harfi 32. indexte!\n",
      "c harfi 37. indexte!\n",
      "c harfi 42. indexte!\n",
      "c harfi 47. indexte!\n"
     ]
    }
   ],
   "source": [
    "harfler = ['a','b','c','d','e'] * 10\n",
    "\n",
    "for index, harf in enumerate(harfler):\n",
    "    if harf == 'c':\n",
    "        print(\"{} harfi {}. indexte!\".format(harf, index))"
   ]
  },
  {
   "cell_type": "code",
   "execution_count": 24,
   "id": "f2ca4165-311d-4830-9b60-89a2689917d9",
   "metadata": {},
   "outputs": [
    {
     "name": "stdout",
     "output_type": "stream",
     "text": [
      "c harfi 2. indexte!\n"
     ]
    }
   ],
   "source": [
    "harfler = ['a','b','c','d','e'] * 10\n",
    "\n",
    "for index, harf in enumerate(harfler):\n",
    "    if harf == 'c':\n",
    "        print(\"{} harfi {}. indexte!\".format(harf, index))\n",
    "        break"
   ]
  },
  {
   "cell_type": "markdown",
   "id": "39eb459d-6b1a-4ee6-84b9-76175caeb4ec",
   "metadata": {},
   "source": [
    "# Continue"
   ]
  },
  {
   "cell_type": "code",
   "execution_count": 31,
   "id": "502f39ba-2a03-4436-a24b-b7e2f32b4193",
   "metadata": {},
   "outputs": [
    {
     "name": "stdout",
     "output_type": "stream",
     "text": [
      "1\n",
      "3\n",
      "5\n"
     ]
    }
   ],
   "source": [
    "for sayi in range(1,6):\n",
    "    if sayi%2 == 0:   # çift sayi sorgulama mantığı\n",
    "        continue \n",
    "    print(sayi)"
   ]
  },
  {
   "cell_type": "markdown",
   "id": "f5934102-ea0a-4b2a-9bd6-ccf36cda2b94",
   "metadata": {},
   "source": [
    "# Pass"
   ]
  },
  {
   "cell_type": "code",
   "execution_count": 38,
   "id": "5b1e145e-d0b1-4856-b76e-c0bef5a38575",
   "metadata": {},
   "outputs": [
    {
     "name": "stdout",
     "output_type": "stream",
     "text": [
      "1\n",
      "3\n",
      "5\n"
     ]
    }
   ],
   "source": [
    "for sayi in range(1,6):\n",
    "    if sayi%2 == 0:   # çift sayi sorgulama mantığı\n",
    "        pass \n",
    "    else: \n",
    "        print(sayi)"
   ]
  },
  {
   "cell_type": "code",
   "execution_count": 40,
   "id": "de80ad6b-dd06-4454-8b4a-6a2c65b17c65",
   "metadata": {},
   "outputs": [
    {
     "name": "stdout",
     "output_type": "stream",
     "text": [
      "1\n",
      "3\n",
      "5\n"
     ]
    }
   ],
   "source": [
    "for sayi in range(1,6):\n",
    "    if sayi%2 != 0:   # çift sayi sorgulama mantığı \n",
    "        print(sayi)"
   ]
  },
  {
   "cell_type": "code",
   "execution_count": 46,
   "id": "ceddfd86-21ff-45b2-9e55-d73fec4aa6ec",
   "metadata": {},
   "outputs": [
    {
     "name": "stdout",
     "output_type": "stream",
     "text": [
      "Hey\n"
     ]
    }
   ],
   "source": [
    "if sayi < 5:\n",
    "    pass\n",
    "else:\n",
    "    print(\"Hey\")    "
   ]
  },
  {
   "cell_type": "code",
   "execution_count": null,
   "id": "9582e65b-cdab-4b4d-8502-80a6a9f2872a",
   "metadata": {},
   "outputs": [],
   "source": []
  }
 ],
 "metadata": {
  "kernelspec": {
   "display_name": "Python [conda env:base] *",
   "language": "python",
   "name": "conda-base-py"
  },
  "language_info": {
   "codemirror_mode": {
    "name": "ipython",
    "version": 3
   },
   "file_extension": ".py",
   "mimetype": "text/x-python",
   "name": "python",
   "nbconvert_exporter": "python",
   "pygments_lexer": "ipython3",
   "version": "3.12.7"
  }
 },
 "nbformat": 4,
 "nbformat_minor": 5
}
