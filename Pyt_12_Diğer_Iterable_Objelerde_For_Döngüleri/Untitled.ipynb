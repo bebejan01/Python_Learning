{
 "cells": [
  {
   "cell_type": "markdown",
   "id": "20a0794a-3a0f-4611-b9b8-54c37cc9d2f1",
   "metadata": {},
   "source": [
    "# Diğer Iterable Objelerde For Döngüleri"
   ]
  },
  {
   "cell_type": "code",
   "execution_count": 2,
   "id": "b81b2b5a-ebf2-4a57-b8df-5628f2ab81d6",
   "metadata": {},
   "outputs": [
    {
     "name": "stdout",
     "output_type": "stream",
     "text": [
      "1\n",
      "3\n",
      "5\n",
      "7\n"
     ]
    }
   ],
   "source": [
    "tup1 = (1, 3, 5, 7)\n",
    "\n",
    "for sayi in tup1:\n",
    "    print(sayi)"
   ]
  },
  {
   "cell_type": "code",
   "execution_count": 4,
   "id": "2fe19245-4614-4b1b-9e62-483e0897e017",
   "metadata": {},
   "outputs": [
    {
     "name": "stdout",
     "output_type": "stream",
     "text": [
      "1\n",
      "3\n"
     ]
    }
   ],
   "source": [
    "liste = [[1,2],[3,4]]\n",
    "\n",
    "for sayi1,sayi2 in liste:\n",
    "    print(sayi1)"
   ]
  },
  {
   "cell_type": "code",
   "execution_count": 6,
   "id": "f0a461cf-db4d-48fe-90e5-53002ef62db1",
   "metadata": {},
   "outputs": [
    {
     "name": "stdout",
     "output_type": "stream",
     "text": [
      "2\n",
      "4\n"
     ]
    }
   ],
   "source": [
    "liste = [[1,2],[3,4]]\n",
    "\n",
    "for sayi1,sayi2 in liste:\n",
    "    print(sayi2)"
   ]
  },
  {
   "cell_type": "code",
   "execution_count": 8,
   "id": "5e496054-a8c9-474e-a6d2-23bccc4c2ab0",
   "metadata": {},
   "outputs": [
    {
     "name": "stdout",
     "output_type": "stream",
     "text": [
      "1 2\n",
      "3 4\n"
     ]
    }
   ],
   "source": [
    "liste = [[1,2],[3,4]]\n",
    "\n",
    "for sayi1,sayi2 in liste:\n",
    "    print(sayi1,sayi2)"
   ]
  },
  {
   "cell_type": "code",
   "execution_count": 10,
   "id": "2fc18447-0126-4cf8-bd55-a8a2a3a29259",
   "metadata": {},
   "outputs": [
    {
     "name": "stdout",
     "output_type": "stream",
     "text": [
      "1 2\n",
      "3 4\n",
      "5 6\n"
     ]
    }
   ],
   "source": [
    "liste = [[1,2],[3,4],[5,6]]\n",
    "\n",
    "for sayi1,sayi2 in liste:\n",
    "    print(sayi1,sayi2)"
   ]
  },
  {
   "cell_type": "code",
   "execution_count": 12,
   "id": "25ce3bbd-fa79-408c-8302-08893a851a20",
   "metadata": {},
   "outputs": [
    {
     "name": "stdout",
     "output_type": "stream",
     "text": [
      "2\n",
      "12\n",
      "30\n"
     ]
    }
   ],
   "source": [
    "liste = [[1,2],[3,4],[5,6]]\n",
    "\n",
    "for sayi1,sayi2 in liste:\n",
    "    print(sayi1*sayi2)"
   ]
  },
  {
   "cell_type": "code",
   "execution_count": 26,
   "id": "8c4db5b8-5678-413f-9bfd-f7a910e83bfb",
   "metadata": {},
   "outputs": [
    {
     "name": "stdout",
     "output_type": "stream",
     "text": [
      "dict_items([('ad', 'Naz'), ('soyad', 'Yagcioglu')])\n",
      "dict_keys(['ad', 'soyad'])\n"
     ]
    }
   ],
   "source": [
    "kullanici1 = {\n",
    "    'ad' : 'Naz',\n",
    "    'soyad' : 'Yagcioglu'\n",
    "}\n",
    "\n",
    "print(kullanici1.items())\n",
    "print(kullanici1.keys())"
   ]
  },
  {
   "cell_type": "code",
   "execution_count": 28,
   "id": "4f6e041b-a945-4df1-90b8-672d562772ac",
   "metadata": {},
   "outputs": [
    {
     "name": "stdout",
     "output_type": "stream",
     "text": [
      "Key : ad \t Value : Naz\n",
      "Key : soyad \t Value : Yagcioglu\n"
     ]
    }
   ],
   "source": [
    "for k, v in kullanici1.items():\n",
    "    print(\"Key : {} \\t Value : {}\".format(k,v))"
   ]
  },
  {
   "cell_type": "code",
   "execution_count": 30,
   "id": "d1dfef65-96b5-47d4-bae1-e85101a11178",
   "metadata": {},
   "outputs": [
    {
     "name": "stdout",
     "output_type": "stream",
     "text": [
      "Key : ad\n",
      "Key : soyad\n"
     ]
    }
   ],
   "source": [
    "for k in kullanici1.keys():\n",
    "    print(\"Key : {}\".format(k,v))"
   ]
  },
  {
   "cell_type": "code",
   "execution_count": null,
   "id": "85cf33e2-cdf8-468e-9681-a81fb2b9f5a9",
   "metadata": {},
   "outputs": [],
   "source": []
  }
 ],
 "metadata": {
  "kernelspec": {
   "display_name": "Python [conda env:base] *",
   "language": "python",
   "name": "conda-base-py"
  },
  "language_info": {
   "codemirror_mode": {
    "name": "ipython",
    "version": 3
   },
   "file_extension": ".py",
   "mimetype": "text/x-python",
   "name": "python",
   "nbconvert_exporter": "python",
   "pygments_lexer": "ipython3",
   "version": "3.12.7"
  }
 },
 "nbformat": 4,
 "nbformat_minor": 5
}
