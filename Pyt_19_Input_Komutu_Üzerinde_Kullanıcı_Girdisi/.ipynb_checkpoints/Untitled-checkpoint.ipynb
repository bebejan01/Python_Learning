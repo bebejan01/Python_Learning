{
 "cells": [
  {
   "cell_type": "markdown",
   "id": "3c9814c3-d6af-42ec-a634-829a8615a35c",
   "metadata": {},
   "source": [
    "# Kullanıcı Girdisi"
   ]
  },
  {
   "cell_type": "code",
   "execution_count": 6,
   "id": "cd36b846-b047-4ffe-82b2-06b9cd426491",
   "metadata": {},
   "outputs": [
    {
     "name": "stdin",
     "output_type": "stream",
     "text": [
      "Bir sayi girin: 18\n"
     ]
    },
    {
     "data": {
      "text/plain": [
       "'18'"
      ]
     },
     "execution_count": 6,
     "metadata": {},
     "output_type": "execute_result"
    }
   ],
   "source": [
    "input(\"Bir sayi girin:\")"
   ]
  },
  {
   "cell_type": "code",
   "execution_count": 8,
   "id": "191e53a7-202f-4418-9ea9-eaa4a9687e90",
   "metadata": {},
   "outputs": [
    {
     "name": "stdin",
     "output_type": "stream",
     "text": [
      "Bir sayi girin: 18\n"
     ]
    },
    {
     "data": {
      "text/plain": [
       "'18'"
      ]
     },
     "execution_count": 8,
     "metadata": {},
     "output_type": "execute_result"
    }
   ],
   "source": [
    "girdi = input(\"Bir sayi girin:\")\n",
    "girdi"
   ]
  },
  {
   "cell_type": "code",
   "execution_count": 10,
   "id": "84497099-e5a4-41e1-b6f6-753fd2e9d5b6",
   "metadata": {},
   "outputs": [
    {
     "data": {
      "text/plain": [
       "str"
      ]
     },
     "execution_count": 10,
     "metadata": {},
     "output_type": "execute_result"
    }
   ],
   "source": [
    "type(girdi)"
   ]
  },
  {
   "cell_type": "code",
   "execution_count": 12,
   "id": "691228c7-9e76-487c-a1ea-2e266951e02e",
   "metadata": {},
   "outputs": [
    {
     "name": "stdin",
     "output_type": "stream",
     "text": [
      "Bir sayi girin: 18\n"
     ]
    },
    {
     "data": {
      "text/plain": [
       "'18'"
      ]
     },
     "execution_count": 12,
     "metadata": {},
     "output_type": "execute_result"
    }
   ],
   "source": [
    "girdi = input(\"Bir sayi girin:\")\n",
    "girdi"
   ]
  },
  {
   "cell_type": "code",
   "execution_count": 14,
   "id": "be423ba1-4927-437b-af35-2ec491ba6cb5",
   "metadata": {},
   "outputs": [
    {
     "data": {
      "text/plain": [
       "int"
      ]
     },
     "execution_count": 14,
     "metadata": {},
     "output_type": "execute_result"
    }
   ],
   "source": [
    "type(int(girdi))"
   ]
  },
  {
   "cell_type": "code",
   "execution_count": 22,
   "id": "4ae5c616-9fa9-4e56-a991-b1809215080d",
   "metadata": {},
   "outputs": [],
   "source": [
    "def uygulama():\n",
    "    girdi = input(\"Bir sayi girin:\")\n",
    "    islem = input(\"Verinin tek mi yoksa cift mi oldugunu sorgula:\")\n",
    "\n",
    "    if islem == 'cift':\n",
    "        if int(girdi)%2 == 0:\n",
    "            return 'Evet {} bir cift sayidir'.format(girdi)\n",
    "        else:\n",
    "            return 'Hayır bu bir cift sayi degildir.'\n",
    "    elif islem == 'tek':\n",
    "        if int(girdi)%2 == 1:\n",
    "            return 'Evet bu bir tek sayidir'\n",
    "        else:\n",
    "            return 'Hayır bu bir tek sayi degildir.'"
   ]
  },
  {
   "cell_type": "code",
   "execution_count": 26,
   "id": "ebb44a2e-5f9b-4ecb-9d19-5b17387a92b3",
   "metadata": {},
   "outputs": [
    {
     "name": "stdin",
     "output_type": "stream",
     "text": [
      "Bir sayi girin: 10\n",
      "Verinin tek mi yoksa cift mi oldugunu sorgula: cift\n"
     ]
    },
    {
     "data": {
      "text/plain": [
       "'Evet 10 bu bir cift sayidir'"
      ]
     },
     "execution_count": 26,
     "metadata": {},
     "output_type": "execute_result"
    }
   ],
   "source": [
    "uygulama()"
   ]
  },
  {
   "cell_type": "code",
   "execution_count": 20,
   "id": "413484bb-d38e-405e-8545-f770351a1354",
   "metadata": {},
   "outputs": [
    {
     "name": "stdin",
     "output_type": "stream",
     "text": [
      "Bir sayi girin: 10\n",
      "Verinin tek mi yoksa cift mi oldugunu sorgula: tek\n"
     ]
    },
    {
     "data": {
      "text/plain": [
       "'Hayır bu bir tek sayi degildir.'"
      ]
     },
     "execution_count": 20,
     "metadata": {},
     "output_type": "execute_result"
    }
   ],
   "source": [
    "uygulama()"
   ]
  },
  {
   "cell_type": "code",
   "execution_count": null,
   "id": "0b460e5d-c33f-4070-9da1-b748c1e22754",
   "metadata": {},
   "outputs": [],
   "source": []
  }
 ],
 "metadata": {
  "kernelspec": {
   "display_name": "Python [conda env:base] *",
   "language": "python",
   "name": "conda-base-py"
  },
  "language_info": {
   "codemirror_mode": {
    "name": "ipython",
    "version": 3
   },
   "file_extension": ".py",
   "mimetype": "text/x-python",
   "name": "python",
   "nbconvert_exporter": "python",
   "pygments_lexer": "ipython3",
   "version": "3.12.7"
  }
 },
 "nbformat": 4,
 "nbformat_minor": 5
}
