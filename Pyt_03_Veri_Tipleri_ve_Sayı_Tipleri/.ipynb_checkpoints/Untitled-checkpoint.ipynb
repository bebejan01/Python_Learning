{
 "cells": [
  {
   "cell_type": "code",
   "execution_count": 21,
   "id": "0821e773-990e-46bf-a6c6-2e0523064fe2",
   "metadata": {},
   "outputs": [
    {
     "name": "stdout",
     "output_type": "stream",
     "text": [
      "hello world\n"
     ]
    }
   ],
   "source": [
    "print('hello world')"
   ]
  },
  {
   "cell_type": "code",
   "execution_count": 23,
   "id": "42f24ae7-d406-4135-9615-168bffe92b21",
   "metadata": {},
   "outputs": [],
   "source": [
    "# Tip        Kısaltma        Örnek\n",
    "# Integer    int             3, 10\n",
    "# Float      float           1.5, 7.0\n",
    "# String     str             \"slm\", 'a'\n",
    "# Boolean    bool            True, False\n",
    "# List       list            [1, 2, True, 'a', 1]\n",
    "# Set        set             {1, 2, True, 'a'}\n",
    "# Dictionary dict            {'isim': 'Mesut', 'yas': 32}\n",
    "# Tuple      tup             (1, 2, True)"
   ]
  },
  {
   "cell_type": "code",
   "execution_count": 25,
   "id": "3e3a3601-1a18-4d49-951b-00c6df0e2c69",
   "metadata": {},
   "outputs": [],
   "source": [
    "# Sayilar\n",
    "# int: Tam Sayilar\n",
    "# float: Ondalik sayilar"
   ]
  },
  {
   "cell_type": "code",
   "execution_count": 27,
   "id": "e5cff8a6-c2cf-46fd-baa0-792ba47ce26a",
   "metadata": {},
   "outputs": [
    {
     "data": {
      "text/plain": [
       "int"
      ]
     },
     "execution_count": 27,
     "metadata": {},
     "output_type": "execute_result"
    }
   ],
   "source": [
    "type(3)"
   ]
  },
  {
   "cell_type": "code",
   "execution_count": 29,
   "id": "3795d454-b994-40b4-ab73-0c12737bbb83",
   "metadata": {},
   "outputs": [
    {
     "data": {
      "text/plain": [
       "float"
      ]
     },
     "execution_count": 29,
     "metadata": {},
     "output_type": "execute_result"
    }
   ],
   "source": [
    "type(7.0)"
   ]
  },
  {
   "cell_type": "code",
   "execution_count": 31,
   "id": "3dc43594-9054-4ca8-9147-eb36f03fc5ae",
   "metadata": {},
   "outputs": [
    {
     "data": {
      "text/plain": [
       "str"
      ]
     },
     "execution_count": 31,
     "metadata": {},
     "output_type": "execute_result"
    }
   ],
   "source": [
    "type(\"selam\")"
   ]
  },
  {
   "cell_type": "code",
   "execution_count": 37,
   "id": "46050e70-bb6d-45da-be72-3cf96b30ef40",
   "metadata": {},
   "outputs": [
    {
     "data": {
      "text/plain": [
       "bool"
      ]
     },
     "execution_count": 37,
     "metadata": {},
     "output_type": "execute_result"
    }
   ],
   "source": [
    "type(True)"
   ]
  },
  {
   "cell_type": "code",
   "execution_count": 39,
   "id": "a5ef4cc5-ac3d-4da9-92a6-f51e2a5fe62d",
   "metadata": {},
   "outputs": [
    {
     "data": {
      "text/plain": [
       "list"
      ]
     },
     "execution_count": 39,
     "metadata": {},
     "output_type": "execute_result"
    }
   ],
   "source": [
    "type([1, 2, True, 'abi', 1])"
   ]
  },
  {
   "cell_type": "code",
   "execution_count": 43,
   "id": "545c6c86-f0db-490e-956a-9f87f3435ac5",
   "metadata": {},
   "outputs": [
    {
     "data": {
      "text/plain": [
       "set"
      ]
     },
     "execution_count": 43,
     "metadata": {},
     "output_type": "execute_result"
    }
   ],
   "source": [
    "type({1, 2, True, 'a'})"
   ]
  },
  {
   "cell_type": "code",
   "execution_count": 45,
   "id": "e2869587-013f-4e26-bfc4-11846b10a87a",
   "metadata": {},
   "outputs": [
    {
     "data": {
      "text/plain": [
       "dict"
      ]
     },
     "execution_count": 45,
     "metadata": {},
     "output_type": "execute_result"
    }
   ],
   "source": [
    "type({'isim': 'Mustafa'})"
   ]
  },
  {
   "cell_type": "code",
   "execution_count": 47,
   "id": "aea1ef80-b59d-4fc4-8c77-52ed339147d9",
   "metadata": {},
   "outputs": [
    {
     "data": {
      "text/plain": [
       "tuple"
      ]
     },
     "execution_count": 47,
     "metadata": {},
     "output_type": "execute_result"
    }
   ],
   "source": [
    "type((1, 2, False))"
   ]
  },
  {
   "cell_type": "code",
   "execution_count": 49,
   "id": "a9c81de0-0b11-4dc1-b6b4-33fe20587b26",
   "metadata": {},
   "outputs": [],
   "source": [
    "# Aritmetik Operasyonlar"
   ]
  },
  {
   "cell_type": "code",
   "execution_count": 51,
   "id": "dcf6be7b-16f8-4b30-9fca-14745dc9e4dd",
   "metadata": {},
   "outputs": [
    {
     "data": {
      "text/plain": [
       "3"
      ]
     },
     "execution_count": 51,
     "metadata": {},
     "output_type": "execute_result"
    }
   ],
   "source": [
    "1+2"
   ]
  },
  {
   "cell_type": "code",
   "execution_count": 55,
   "id": "1b3d7500-495b-4c8e-83d9-d84f3a32ce76",
   "metadata": {},
   "outputs": [
    {
     "name": "stdout",
     "output_type": "stream",
     "text": [
      "3\n"
     ]
    }
   ],
   "source": [
    "print(1+2)"
   ]
  },
  {
   "cell_type": "code",
   "execution_count": 57,
   "id": "6aaa3522-6ce1-4257-9b29-1ee3f8801a94",
   "metadata": {},
   "outputs": [
    {
     "data": {
      "text/plain": [
       "4"
      ]
     },
     "execution_count": 57,
     "metadata": {},
     "output_type": "execute_result"
    }
   ],
   "source": [
    "1+2\n",
    "1*4"
   ]
  },
  {
   "cell_type": "code",
   "execution_count": 61,
   "id": "5d832a18-55a0-48bc-9dc3-565b178bf77e",
   "metadata": {},
   "outputs": [
    {
     "name": "stdout",
     "output_type": "stream",
     "text": [
      "3\n",
      "4\n"
     ]
    }
   ],
   "source": [
    "print(1+2)\n",
    "print(1*4)"
   ]
  },
  {
   "cell_type": "code",
   "execution_count": 63,
   "id": "0ca6bcfa-2df4-42c7-b7e9-bc256a3357b4",
   "metadata": {},
   "outputs": [
    {
     "data": {
      "text/plain": [
       "1"
      ]
     },
     "execution_count": 63,
     "metadata": {},
     "output_type": "execute_result"
    }
   ],
   "source": [
    "5%2"
   ]
  },
  {
   "cell_type": "code",
   "execution_count": null,
   "id": "55ffb007-cfea-476d-ab95-53d9964e8916",
   "metadata": {},
   "outputs": [],
   "source": []
  }
 ],
 "metadata": {
  "kernelspec": {
   "display_name": "Python [conda env:base] *",
   "language": "python",
   "name": "conda-base-py"
  },
  "language_info": {
   "codemirror_mode": {
    "name": "ipython",
    "version": 3
   },
   "file_extension": ".py",
   "mimetype": "text/x-python",
   "name": "python",
   "nbconvert_exporter": "python",
   "pygments_lexer": "ipython3",
   "version": "3.12.7"
  }
 },
 "nbformat": 4,
 "nbformat_minor": 5
}
