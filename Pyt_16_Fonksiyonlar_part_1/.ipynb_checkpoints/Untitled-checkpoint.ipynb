{
 "cells": [
  {
   "cell_type": "markdown",
   "id": "77435b0a-9db1-422f-b8de-0d537c8cf7f1",
   "metadata": {},
   "source": [
    "# Fonksiyon Yapısı"
   ]
  },
  {
   "cell_type": "raw",
   "id": "ce4b9791-68c7-4ebb-99a5-c8b69d07977c",
   "metadata": {},
   "source": [
    "def <fonksiyon_ismi>(<argümanlar>): # snake_case \n",
    "    \"\"\"  \n",
    "    bu kod ne işe yarar             # docstring\n",
    "    \"\"\"\n",
    "    ...                             # return/print"
   ]
  },
  {
   "cell_type": "code",
   "execution_count": 13,
   "id": "6314e6cd-eb42-4c20-895d-ed438545cb0f",
   "metadata": {},
   "outputs": [],
   "source": [
    "def bes_bastir(): \n",
    "    print(5)"
   ]
  },
  {
   "cell_type": "code",
   "execution_count": 15,
   "id": "4025702a-40c2-4aae-8bdc-2fd1437082a8",
   "metadata": {},
   "outputs": [
    {
     "name": "stdout",
     "output_type": "stream",
     "text": [
      "5\n"
     ]
    }
   ],
   "source": [
    "bes_bastir()"
   ]
  },
  {
   "cell_type": "code",
   "execution_count": 17,
   "id": "820c5fdc-4134-4806-9687-6f7020adde6d",
   "metadata": {},
   "outputs": [
    {
     "name": "stdout",
     "output_type": "stream",
     "text": [
      "5\n"
     ]
    }
   ],
   "source": [
    "print(5)"
   ]
  },
  {
   "cell_type": "code",
   "execution_count": 19,
   "id": "751b7119-e9d1-406a-867b-bbce131e91af",
   "metadata": {},
   "outputs": [],
   "source": [
    "def bes_bastir(): \n",
    "    \"\"\"\n",
    "    fonksiyonun ne yaptığını anlatmak için\n",
    "    \"\"\"\n",
    "    print(5)"
   ]
  },
  {
   "cell_type": "markdown",
   "id": "09fbfb8b-b0a1-4395-a981-032082d52c7c",
   "metadata": {},
   "source": [
    "# Fonksiyonlarda Return ve Print farkı"
   ]
  },
  {
   "cell_type": "code",
   "execution_count": 24,
   "id": "35ea4f06-3deb-43ee-bc49-d2401019b461",
   "metadata": {},
   "outputs": [],
   "source": [
    "def bes_dondur():\n",
    "    return 5"
   ]
  },
  {
   "cell_type": "code",
   "execution_count": 26,
   "id": "900190de-ef10-445d-b171-84b198f6d80f",
   "metadata": {},
   "outputs": [
    {
     "data": {
      "text/plain": [
       "5"
      ]
     },
     "execution_count": 26,
     "metadata": {},
     "output_type": "execute_result"
    }
   ],
   "source": [
    "bes_dondur()"
   ]
  },
  {
   "cell_type": "code",
   "execution_count": 28,
   "id": "b31ed900-a790-4066-8dc0-62073a248015",
   "metadata": {},
   "outputs": [
    {
     "data": {
      "text/plain": [
       "5"
      ]
     },
     "execution_count": 28,
     "metadata": {},
     "output_type": "execute_result"
    }
   ],
   "source": [
    "a = bes_dondur()\n",
    "a"
   ]
  },
  {
   "cell_type": "code",
   "execution_count": 34,
   "id": "2efba39d-8766-498c-83d8-faba727b927c",
   "metadata": {},
   "outputs": [
    {
     "name": "stdout",
     "output_type": "stream",
     "text": [
      "5\n"
     ]
    }
   ],
   "source": [
    "a = bes_dondur()\n",
    "print(a)"
   ]
  },
  {
   "cell_type": "markdown",
   "id": "ee61c9fa-46bb-4768-8028-8deb67616a95",
   "metadata": {},
   "source": [
    "# Fonksiyonlarda Argümanlar"
   ]
  },
  {
   "cell_type": "code",
   "execution_count": 39,
   "id": "4a5108f8-2150-4ffa-8b88-089c70eaa14d",
   "metadata": {},
   "outputs": [],
   "source": [
    "def sayi_dondur(sayi):\n",
    "    return sayi"
   ]
  },
  {
   "cell_type": "code",
   "execution_count": 43,
   "id": "93a519c0-8632-460a-ba6d-71a145f0177a",
   "metadata": {},
   "outputs": [
    {
     "data": {
      "text/plain": [
       "10"
      ]
     },
     "execution_count": 43,
     "metadata": {},
     "output_type": "execute_result"
    }
   ],
   "source": [
    "sayi_dondur(10)"
   ]
  },
  {
   "cell_type": "code",
   "execution_count": 45,
   "id": "e7f0ad6f-2853-458b-a800-a5bf2ea915da",
   "metadata": {},
   "outputs": [
    {
     "data": {
      "text/plain": [
       "'asdasfg'"
      ]
     },
     "execution_count": 45,
     "metadata": {},
     "output_type": "execute_result"
    }
   ],
   "source": [
    "sayi_dondur(\"asdasfg\")"
   ]
  },
  {
   "cell_type": "code",
   "execution_count": 47,
   "id": "4bdd1a1b-46bf-42ec-a7d4-0eb7ea260911",
   "metadata": {},
   "outputs": [],
   "source": [
    "def sayi_dondur(sayi=250):\n",
    "    return sayi"
   ]
  },
  {
   "cell_type": "code",
   "execution_count": 49,
   "id": "98b5d1cc-9274-43ea-900b-7bb49b815a05",
   "metadata": {},
   "outputs": [
    {
     "data": {
      "text/plain": [
       "250"
      ]
     },
     "execution_count": 49,
     "metadata": {},
     "output_type": "execute_result"
    }
   ],
   "source": [
    "sayi_dondur()"
   ]
  },
  {
   "cell_type": "code",
   "execution_count": 51,
   "id": "6b2fa207-746f-4432-b02f-1d2388bff508",
   "metadata": {},
   "outputs": [
    {
     "data": {
      "text/plain": [
       "89"
      ]
     },
     "execution_count": 51,
     "metadata": {},
     "output_type": "execute_result"
    }
   ],
   "source": [
    "sayi_dondur(89)"
   ]
  },
  {
   "cell_type": "code",
   "execution_count": 53,
   "id": "53f7f8a1-1c94-4112-b1f3-2624d8b854f9",
   "metadata": {},
   "outputs": [],
   "source": [
    "def buyuk_sayi_dondur(a,b):\n",
    "    return a\n",
    "    return b"
   ]
  },
  {
   "cell_type": "code",
   "execution_count": 55,
   "id": "b5557cf6-c43d-409b-87ba-dd7988400cde",
   "metadata": {},
   "outputs": [
    {
     "data": {
      "text/plain": [
       "5"
      ]
     },
     "execution_count": 55,
     "metadata": {},
     "output_type": "execute_result"
    }
   ],
   "source": [
    "buyuk_sayi_dondur(5,9)"
   ]
  },
  {
   "cell_type": "code",
   "execution_count": 57,
   "id": "e45976ba-f5e1-41ed-8b28-7cc8601cdd02",
   "metadata": {},
   "outputs": [],
   "source": [
    "def buyuk_sayi_dondur(a,b):\n",
    "    if a > b:\n",
    "        return a\n",
    "    elif b > a:\n",
    "        return b   "
   ]
  },
  {
   "cell_type": "code",
   "execution_count": 59,
   "id": "ab98b04a-f60d-4379-b079-790c5f248cad",
   "metadata": {},
   "outputs": [
    {
     "data": {
      "text/plain": [
       "9"
      ]
     },
     "execution_count": 59,
     "metadata": {},
     "output_type": "execute_result"
    }
   ],
   "source": [
    "buyuk_sayi_dondur(5,9)"
   ]
  },
  {
   "cell_type": "code",
   "execution_count": null,
   "id": "f679ee55-5bdb-4e6e-8844-f6bc30abf642",
   "metadata": {},
   "outputs": [],
   "source": []
  }
 ],
 "metadata": {
  "kernelspec": {
   "display_name": "Python [conda env:base] *",
   "language": "python",
   "name": "conda-base-py"
  },
  "language_info": {
   "codemirror_mode": {
    "name": "ipython",
    "version": 3
   },
   "file_extension": ".py",
   "mimetype": "text/x-python",
   "name": "python",
   "nbconvert_exporter": "python",
   "pygments_lexer": "ipython3",
   "version": "3.12.7"
  }
 },
 "nbformat": 4,
 "nbformat_minor": 5
}
