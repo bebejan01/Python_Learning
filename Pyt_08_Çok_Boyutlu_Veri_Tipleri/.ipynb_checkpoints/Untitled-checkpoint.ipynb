{
 "cells": [
  {
   "cell_type": "code",
   "execution_count": 33,
   "id": "c38474f1-9120-464c-b7ee-a7cf8d3789dd",
   "metadata": {},
   "outputs": [],
   "source": [
    "dict1 = {'isim': 'Mesut', 'yas': 32, 'lokasyon': 'Berlin'}"
   ]
  },
  {
   "cell_type": "code",
   "execution_count": 35,
   "id": "8d0f4591-1b8d-43e3-899b-e1da0335a8b8",
   "metadata": {},
   "outputs": [
    {
     "data": {
      "text/plain": [
       "{'isim': 'Mesut', 'yas': 32, 'lokasyon': 'Berlin'}"
      ]
     },
     "execution_count": 35,
     "metadata": {},
     "output_type": "execute_result"
    }
   ],
   "source": [
    "dict1"
   ]
  },
  {
   "cell_type": "code",
   "execution_count": 37,
   "id": "dc0fe563-dfdb-44c9-b295-b077f0120f9e",
   "metadata": {},
   "outputs": [],
   "source": [
    "dict2 = {\n",
    "    'isim': 'Mesut', \n",
    "    'yas': 32, \n",
    "    'dogdugu_sehir': 'Istanbul',\n",
    "    'yasadigi_sehir': 'Berlin'\n",
    "    ##'lokasyon': \n",
    "}"
   ]
  },
  {
   "cell_type": "code",
   "execution_count": 39,
   "id": "cedf26c3-2e4b-4048-9de7-65156d5a4839",
   "metadata": {},
   "outputs": [
    {
     "data": {
      "text/plain": [
       "{'isim': 'Mesut',\n",
       " 'yas': 32,\n",
       " 'dogdugu_sehir': 'Istanbul',\n",
       " 'yasadigi_sehir': 'Berlin'}"
      ]
     },
     "execution_count": 39,
     "metadata": {},
     "output_type": "execute_result"
    }
   ],
   "source": [
    "dict2"
   ]
  },
  {
   "cell_type": "code",
   "execution_count": 41,
   "id": "b359b514-72cd-4985-bb1f-564a3829ca63",
   "metadata": {},
   "outputs": [],
   "source": [
    "dict3 = {\n",
    "    'isim': 'Mesut', \n",
    "    'yas': 32, \n",
    "    'lokasyon': {\n",
    "        'dogdugu_sehir': 'Istanbul',\n",
    "        'yasadigi_sehir': 'Berlin'\n",
    "    }\n",
    "}"
   ]
  },
  {
   "cell_type": "code",
   "execution_count": 43,
   "id": "93134320-ffe6-4cc8-8b4d-08d8c11f90d2",
   "metadata": {},
   "outputs": [
    {
     "data": {
      "text/plain": [
       "{'isim': 'Mesut',\n",
       " 'yas': 32,\n",
       " 'lokasyon': {'dogdugu_sehir': 'Istanbul', 'yasadigi_sehir': 'Berlin'}}"
      ]
     },
     "execution_count": 43,
     "metadata": {},
     "output_type": "execute_result"
    }
   ],
   "source": [
    "dict3"
   ]
  },
  {
   "cell_type": "code",
   "execution_count": 47,
   "id": "ad87d8f3-d0e8-47f8-95f8-a67d93865117",
   "metadata": {},
   "outputs": [
    {
     "data": {
      "text/plain": [
       "32"
      ]
     },
     "execution_count": 47,
     "metadata": {},
     "output_type": "execute_result"
    }
   ],
   "source": [
    "dict2['yas']"
   ]
  },
  {
   "cell_type": "code",
   "execution_count": 49,
   "id": "7746948d-646f-4faa-93f8-2f9ba98399e2",
   "metadata": {},
   "outputs": [
    {
     "data": {
      "text/plain": [
       "32"
      ]
     },
     "execution_count": 49,
     "metadata": {},
     "output_type": "execute_result"
    }
   ],
   "source": [
    "dict3['yas']"
   ]
  },
  {
   "cell_type": "code",
   "execution_count": 51,
   "id": "6bc45ca2-e9fc-4d8a-9311-1cf6e7362d9e",
   "metadata": {},
   "outputs": [
    {
     "data": {
      "text/plain": [
       "{'dogdugu_sehir': 'Istanbul', 'yasadigi_sehir': 'Berlin'}"
      ]
     },
     "execution_count": 51,
     "metadata": {},
     "output_type": "execute_result"
    }
   ],
   "source": [
    "dict3['lokasyon']"
   ]
  },
  {
   "cell_type": "code",
   "execution_count": 53,
   "id": "276d1dfb-6523-4ac5-8134-6c48c62965c9",
   "metadata": {},
   "outputs": [
    {
     "data": {
      "text/plain": [
       "'Berlin'"
      ]
     },
     "execution_count": 53,
     "metadata": {},
     "output_type": "execute_result"
    }
   ],
   "source": [
    "dict3['lokasyon']['yasadigi_sehir']"
   ]
  },
  {
   "cell_type": "code",
   "execution_count": 55,
   "id": "8a5a0c09-8d1b-4265-8134-cfb29f2dcc73",
   "metadata": {},
   "outputs": [
    {
     "data": {
      "text/plain": [
       "32"
      ]
     },
     "execution_count": 55,
     "metadata": {},
     "output_type": "execute_result"
    }
   ],
   "source": [
    "dict2.get('yas')"
   ]
  },
  {
   "cell_type": "code",
   "execution_count": 57,
   "id": "cde96808-20af-4e7c-af92-2b4195b457d7",
   "metadata": {},
   "outputs": [
    {
     "data": {
      "text/plain": [
       "'Berlin'"
      ]
     },
     "execution_count": 57,
     "metadata": {},
     "output_type": "execute_result"
    }
   ],
   "source": [
    "dict3.get('lokasyon').get('yasadigi_sehir')"
   ]
  },
  {
   "cell_type": "code",
   "execution_count": 63,
   "id": "fc6ffd6c-8818-403d-9d1c-28fab1089f61",
   "metadata": {},
   "outputs": [
    {
     "data": {
      "text/plain": [
       "dict_keys(['isim', 'yas', 'dogdugu_sehir', 'yasadigi_sehir'])"
      ]
     },
     "execution_count": 63,
     "metadata": {},
     "output_type": "execute_result"
    }
   ],
   "source": [
    "dict2.keys()"
   ]
  },
  {
   "cell_type": "code",
   "execution_count": 65,
   "id": "f28315bd-3d13-4cf1-9b34-6d8655d76e40",
   "metadata": {},
   "outputs": [
    {
     "data": {
      "text/plain": [
       "dict_values(['Mesut', 32, 'Istanbul', 'Berlin'])"
      ]
     },
     "execution_count": 65,
     "metadata": {},
     "output_type": "execute_result"
    }
   ],
   "source": [
    "dict2.values()"
   ]
  },
  {
   "cell_type": "code",
   "execution_count": 69,
   "id": "d6a341e5-778d-4618-8ffd-d1ab81c1e6e7",
   "metadata": {},
   "outputs": [
    {
     "data": {
      "text/plain": [
       "dict_items([('isim', 'Mesut'), ('yas', 32), ('dogdugu_sehir', 'Istanbul'), ('yasadigi_sehir', 'Berlin')])"
      ]
     },
     "execution_count": 69,
     "metadata": {},
     "output_type": "execute_result"
    }
   ],
   "source": [
    "dict2.items()"
   ]
  },
  {
   "cell_type": "code",
   "execution_count": null,
   "id": "a103b532-6b93-44c7-adce-e43678d248b3",
   "metadata": {},
   "outputs": [],
   "source": []
  }
 ],
 "metadata": {
  "kernelspec": {
   "display_name": "Python [conda env:base] *",
   "language": "python",
   "name": "conda-base-py"
  },
  "language_info": {
   "codemirror_mode": {
    "name": "ipython",
    "version": 3
   },
   "file_extension": ".py",
   "mimetype": "text/x-python",
   "name": "python",
   "nbconvert_exporter": "python",
   "pygments_lexer": "ipython3",
   "version": "3.12.7"
  }
 },
 "nbformat": 4,
 "nbformat_minor": 5
}
