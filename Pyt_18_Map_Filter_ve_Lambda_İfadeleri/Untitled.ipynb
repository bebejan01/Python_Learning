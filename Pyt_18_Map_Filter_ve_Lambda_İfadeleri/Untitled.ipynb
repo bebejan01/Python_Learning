{
 "cells": [
  {
   "cell_type": "markdown",
   "id": "2b77586a-3184-405a-90af-fc4f61d0353e",
   "metadata": {},
   "source": [
    "# Map, Filter ve lambda Expressions"
   ]
  },
  {
   "cell_type": "code",
   "execution_count": 4,
   "id": "9e454edc-601a-4fed-8a4e-e834d7984554",
   "metadata": {},
   "outputs": [],
   "source": [
    "def karesini_al(x):\n",
    "    return x**2"
   ]
  },
  {
   "cell_type": "code",
   "execution_count": 6,
   "id": "6f7c6720-8e7a-474b-94d5-9cd83b2ac1b2",
   "metadata": {},
   "outputs": [
    {
     "data": {
      "text/plain": [
       "36"
      ]
     },
     "execution_count": 6,
     "metadata": {},
     "output_type": "execute_result"
    }
   ],
   "source": [
    "karesini_al(6)"
   ]
  },
  {
   "cell_type": "code",
   "execution_count": 10,
   "id": "867cc4c5-8da2-49b8-8ea3-6aa214d21a3f",
   "metadata": {},
   "outputs": [
    {
     "data": {
      "text/plain": [
       "[1, 2, 3, 4, 5]"
      ]
     },
     "execution_count": 10,
     "metadata": {},
     "output_type": "execute_result"
    }
   ],
   "source": [
    "sayilar = [*range(1,6)]\n",
    "sayilar"
   ]
  },
  {
   "cell_type": "code",
   "execution_count": 12,
   "id": "54febd35-f2bc-4c4d-a733-7e8f2846c1b4",
   "metadata": {},
   "outputs": [
    {
     "name": "stdout",
     "output_type": "stream",
     "text": [
      "[1, 2, 3, 4, 5]\n",
      "[1, 4, 9, 16, 25]\n"
     ]
    }
   ],
   "source": [
    "sayilar = [*range(1,6)]\n",
    "print(sayilar)\n",
    "for index in range(len(sayilar)):\n",
    "    sayilar[index] = karesini_al(sayilar[index])\n",
    "print(sayilar)"
   ]
  },
  {
   "cell_type": "code",
   "execution_count": 18,
   "id": "b9d975ba-3ef2-4c3b-8116-93936d430bdc",
   "metadata": {},
   "outputs": [
    {
     "data": {
      "text/plain": [
       "[1, 4, 9, 16, 25]"
      ]
     },
     "execution_count": 18,
     "metadata": {},
     "output_type": "execute_result"
    }
   ],
   "source": [
    "sayilar = [*range(1,6)]\n",
    "[*map(karesini_al, sayilar)]"
   ]
  },
  {
   "cell_type": "code",
   "execution_count": 20,
   "id": "d44e2433-18ff-41df-bfed-bc17cee3ab9a",
   "metadata": {},
   "outputs": [],
   "source": [
    "def cift_sayilari_filtrele(x):\n",
    "    if x%2 == 0:\n",
    "        return x\n",
    "#    else:\n",
    "#        return None"
   ]
  },
  {
   "cell_type": "code",
   "execution_count": 22,
   "id": "7baaae84-6e8d-43ba-8795-100eeaadfc29",
   "metadata": {},
   "outputs": [
    {
     "data": {
      "text/plain": [
       "4"
      ]
     },
     "execution_count": 22,
     "metadata": {},
     "output_type": "execute_result"
    }
   ],
   "source": [
    "cift_sayilari_filtrele(4)"
   ]
  },
  {
   "cell_type": "code",
   "execution_count": 24,
   "id": "4f5b6a5f-3fcc-4fd0-8c28-7edb38bd24b6",
   "metadata": {},
   "outputs": [],
   "source": [
    "cift_sayilari_filtrele(3)"
   ]
  },
  {
   "cell_type": "code",
   "execution_count": 26,
   "id": "e778dfab-f569-43ac-932d-7dddbea91096",
   "metadata": {},
   "outputs": [],
   "source": [
    "def cift_sayilari_filtrele(x):\n",
    "#    if x%2 == 0:\n",
    "#        return x\n",
    "    return x if x%2 == 0 else None"
   ]
  },
  {
   "cell_type": "code",
   "execution_count": 28,
   "id": "3974ebc5-1106-45bb-b78d-a0d1cd2dbb71",
   "metadata": {},
   "outputs": [
    {
     "data": {
      "text/plain": [
       "4"
      ]
     },
     "execution_count": 28,
     "metadata": {},
     "output_type": "execute_result"
    }
   ],
   "source": [
    "cift_sayilari_filtrele(4)"
   ]
  },
  {
   "cell_type": "code",
   "execution_count": 30,
   "id": "7144adc3-c7a1-48e5-a222-d381ed1e0fc5",
   "metadata": {},
   "outputs": [],
   "source": [
    "cift_sayilari_filtrele(3)"
   ]
  },
  {
   "cell_type": "code",
   "execution_count": 35,
   "id": "763c6314-628d-4338-a970-1f9d87650cbb",
   "metadata": {},
   "outputs": [
    {
     "data": {
      "text/plain": [
       "<filter at 0x1ed95ec0b50>"
      ]
     },
     "execution_count": 35,
     "metadata": {},
     "output_type": "execute_result"
    }
   ],
   "source": [
    "sayilar = [*range(1,6)]\n",
    "filter(cift_sayilari_filtrele, sayilar)"
   ]
  },
  {
   "cell_type": "code",
   "execution_count": 37,
   "id": "a5b49745-9008-4339-8d91-7188089ee49e",
   "metadata": {},
   "outputs": [
    {
     "data": {
      "text/plain": [
       "[1, 4, 9, 16, 25]"
      ]
     },
     "execution_count": 37,
     "metadata": {},
     "output_type": "execute_result"
    }
   ],
   "source": [
    "sayilar = [*range(1,6)]\n",
    "list(map(lambda sayi: sayi**2, sayilar))"
   ]
  },
  {
   "cell_type": "code",
   "execution_count": 39,
   "id": "0915dfaf-c9e9-430b-8f78-7dabb5f5fa32",
   "metadata": {},
   "outputs": [
    {
     "data": {
      "text/plain": [
       "[2, 4]"
      ]
     },
     "execution_count": 39,
     "metadata": {},
     "output_type": "execute_result"
    }
   ],
   "source": [
    "sayilar = [*range(1,6)]\n",
    "[*filter(lambda x: x if x%2 == 0 else None, sayilar)]"
   ]
  },
  {
   "cell_type": "code",
   "execution_count": null,
   "id": "ac8df781-9be3-4195-98aa-be6286e66270",
   "metadata": {},
   "outputs": [],
   "source": []
  }
 ],
 "metadata": {
  "kernelspec": {
   "display_name": "Python [conda env:base] *",
   "language": "python",
   "name": "conda-base-py"
  },
  "language_info": {
   "codemirror_mode": {
    "name": "ipython",
    "version": 3
   },
   "file_extension": ".py",
   "mimetype": "text/x-python",
   "name": "python",
   "nbconvert_exporter": "python",
   "pygments_lexer": "ipython3",
   "version": "3.12.7"
  }
 },
 "nbformat": 4,
 "nbformat_minor": 5
}
